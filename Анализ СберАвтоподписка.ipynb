{
 "cells": [
  {
   "cell_type": "code",
   "execution_count": 1,
   "id": "f1e22e9d",
   "metadata": {},
   "outputs": [],
   "source": [
    "import pandas as pd\n",
    "import missingno as msno\n",
    "import numpy as np\n",
    "import matplotlib.pyplot as plt\n",
    "from scipy import stats\n",
    "from matplotlib.ticker import FormatStrFormatter"
   ]
  },
  {
   "cell_type": "markdown",
   "id": "5f5d8fa2",
   "metadata": {},
   "source": [
    "# ЗАГРУЗКА ДАТАСЕТА ВИЗИТОВ (df_sessions)"
   ]
  },
  {
   "cell_type": "code",
   "execution_count": 2,
   "id": "27eb5ca9",
   "metadata": {},
   "outputs": [
    {
     "name": "stderr",
     "output_type": "stream",
     "text": [
      "C:\\Users\\Ekaterina\\AppData\\Local\\Temp\\ipykernel_5104\\1569105054.py:1: DtypeWarning: Columns (1) have mixed types. Specify dtype option on import or set low_memory=False.\n",
      "  df_sessions = pd.read_csv('ga_sessions.csv')\n"
     ]
    },
    {
     "data": {
      "text/html": [
       "<div>\n",
       "<style scoped>\n",
       "    .dataframe tbody tr th:only-of-type {\n",
       "        vertical-align: middle;\n",
       "    }\n",
       "\n",
       "    .dataframe tbody tr th {\n",
       "        vertical-align: top;\n",
       "    }\n",
       "\n",
       "    .dataframe thead th {\n",
       "        text-align: right;\n",
       "    }\n",
       "</style>\n",
       "<table border=\"1\" class=\"dataframe\">\n",
       "  <thead>\n",
       "    <tr style=\"text-align: right;\">\n",
       "      <th></th>\n",
       "      <th>session_id</th>\n",
       "      <th>client_id</th>\n",
       "      <th>visit_date</th>\n",
       "      <th>visit_time</th>\n",
       "      <th>visit_number</th>\n",
       "      <th>utm_source</th>\n",
       "      <th>utm_medium</th>\n",
       "      <th>utm_campaign</th>\n",
       "      <th>utm_adcontent</th>\n",
       "      <th>utm_keyword</th>\n",
       "      <th>device_category</th>\n",
       "      <th>device_os</th>\n",
       "      <th>device_brand</th>\n",
       "      <th>device_model</th>\n",
       "      <th>device_screen_resolution</th>\n",
       "      <th>device_browser</th>\n",
       "      <th>geo_country</th>\n",
       "      <th>geo_city</th>\n",
       "    </tr>\n",
       "  </thead>\n",
       "  <tbody>\n",
       "    <tr>\n",
       "      <th>0</th>\n",
       "      <td>9055434745589932991.1637753792.1637753792</td>\n",
       "      <td>2108382700.163776</td>\n",
       "      <td>2021-11-24</td>\n",
       "      <td>14:36:32</td>\n",
       "      <td>1</td>\n",
       "      <td>ZpYIoDJMcFzVoPFsHGJL</td>\n",
       "      <td>banner</td>\n",
       "      <td>LEoPHuyFvzoNfnzGgfcd</td>\n",
       "      <td>vCIpmpaGBnIQhyYNkXqp</td>\n",
       "      <td>puhZPIYqKXeFPaUviSjo</td>\n",
       "      <td>mobile</td>\n",
       "      <td>Android</td>\n",
       "      <td>Huawei</td>\n",
       "      <td>NaN</td>\n",
       "      <td>360x720</td>\n",
       "      <td>Chrome</td>\n",
       "      <td>Russia</td>\n",
       "      <td>Zlatoust</td>\n",
       "    </tr>\n",
       "    <tr>\n",
       "      <th>1</th>\n",
       "      <td>905544597018549464.1636867290.1636867290</td>\n",
       "      <td>210838531.163687</td>\n",
       "      <td>2021-11-14</td>\n",
       "      <td>08:21:30</td>\n",
       "      <td>1</td>\n",
       "      <td>MvfHsxITijuriZxsqZqt</td>\n",
       "      <td>cpm</td>\n",
       "      <td>FTjNLDyTrXaWYgZymFkV</td>\n",
       "      <td>xhoenQgDQsgfEPYNPwKO</td>\n",
       "      <td>IGUCNvHlhfHpROGclCit</td>\n",
       "      <td>mobile</td>\n",
       "      <td>Android</td>\n",
       "      <td>Samsung</td>\n",
       "      <td>NaN</td>\n",
       "      <td>385x854</td>\n",
       "      <td>Samsung Internet</td>\n",
       "      <td>Russia</td>\n",
       "      <td>Moscow</td>\n",
       "    </tr>\n",
       "    <tr>\n",
       "      <th>2</th>\n",
       "      <td>9055446045651783499.1640648526.1640648526</td>\n",
       "      <td>2108385331.164065</td>\n",
       "      <td>2021-12-28</td>\n",
       "      <td>02:42:06</td>\n",
       "      <td>1</td>\n",
       "      <td>ZpYIoDJMcFzVoPFsHGJL</td>\n",
       "      <td>banner</td>\n",
       "      <td>LEoPHuyFvzoNfnzGgfcd</td>\n",
       "      <td>vCIpmpaGBnIQhyYNkXqp</td>\n",
       "      <td>puhZPIYqKXeFPaUviSjo</td>\n",
       "      <td>mobile</td>\n",
       "      <td>Android</td>\n",
       "      <td>Huawei</td>\n",
       "      <td>NaN</td>\n",
       "      <td>360x720</td>\n",
       "      <td>Chrome</td>\n",
       "      <td>Russia</td>\n",
       "      <td>Krasnoyarsk</td>\n",
       "    </tr>\n",
       "    <tr>\n",
       "      <th>3</th>\n",
       "      <td>9055447046360770272.1622255328.1622255328</td>\n",
       "      <td>2108385564.162225</td>\n",
       "      <td>2021-05-29</td>\n",
       "      <td>05:00:00</td>\n",
       "      <td>1</td>\n",
       "      <td>kjsLglQLzykiRbcDiGcD</td>\n",
       "      <td>cpc</td>\n",
       "      <td>NaN</td>\n",
       "      <td>NOBKLgtuvqYWkXQHeYWM</td>\n",
       "      <td>NaN</td>\n",
       "      <td>mobile</td>\n",
       "      <td>NaN</td>\n",
       "      <td>Xiaomi</td>\n",
       "      <td>NaN</td>\n",
       "      <td>393x786</td>\n",
       "      <td>Chrome</td>\n",
       "      <td>Russia</td>\n",
       "      <td>Moscow</td>\n",
       "    </tr>\n",
       "    <tr>\n",
       "      <th>4</th>\n",
       "      <td>9055447046360770272.1622255345.1622255345</td>\n",
       "      <td>2108385564.162225</td>\n",
       "      <td>2021-05-29</td>\n",
       "      <td>05:00:00</td>\n",
       "      <td>2</td>\n",
       "      <td>kjsLglQLzykiRbcDiGcD</td>\n",
       "      <td>cpc</td>\n",
       "      <td>NaN</td>\n",
       "      <td>NaN</td>\n",
       "      <td>NaN</td>\n",
       "      <td>mobile</td>\n",
       "      <td>NaN</td>\n",
       "      <td>Xiaomi</td>\n",
       "      <td>NaN</td>\n",
       "      <td>393x786</td>\n",
       "      <td>Chrome</td>\n",
       "      <td>Russia</td>\n",
       "      <td>Moscow</td>\n",
       "    </tr>\n",
       "    <tr>\n",
       "      <th>...</th>\n",
       "      <td>...</td>\n",
       "      <td>...</td>\n",
       "      <td>...</td>\n",
       "      <td>...</td>\n",
       "      <td>...</td>\n",
       "      <td>...</td>\n",
       "      <td>...</td>\n",
       "      <td>...</td>\n",
       "      <td>...</td>\n",
       "      <td>...</td>\n",
       "      <td>...</td>\n",
       "      <td>...</td>\n",
       "      <td>...</td>\n",
       "      <td>...</td>\n",
       "      <td>...</td>\n",
       "      <td>...</td>\n",
       "      <td>...</td>\n",
       "      <td>...</td>\n",
       "    </tr>\n",
       "    <tr>\n",
       "      <th>1860037</th>\n",
       "      <td>9055415581448263752.1640159305.1640159305</td>\n",
       "      <td>2108378238.164016</td>\n",
       "      <td>2021-12-22</td>\n",
       "      <td>10:48:25</td>\n",
       "      <td>1</td>\n",
       "      <td>BHcvLfOaCWvWTykYqHVe</td>\n",
       "      <td>cpc</td>\n",
       "      <td>NaN</td>\n",
       "      <td>NaN</td>\n",
       "      <td>VlqBmecIOXWjCWUmQkLd</td>\n",
       "      <td>desktop</td>\n",
       "      <td>Windows</td>\n",
       "      <td>NaN</td>\n",
       "      <td>NaN</td>\n",
       "      <td>1920x1080</td>\n",
       "      <td>Chrome</td>\n",
       "      <td>Russia</td>\n",
       "      <td>Moscow</td>\n",
       "    </tr>\n",
       "    <tr>\n",
       "      <th>1860038</th>\n",
       "      <td>9055421130527858185.1622007305.1622007305</td>\n",
       "      <td>2108379530.162201</td>\n",
       "      <td>2021-05-26</td>\n",
       "      <td>08:00:00</td>\n",
       "      <td>1</td>\n",
       "      <td>fDLlAcSmythWSCVMvqvL</td>\n",
       "      <td>(none)</td>\n",
       "      <td>LTuZkdKfxRGVceoWkVyg</td>\n",
       "      <td>JNHcPlZPxEMWDnRiyoBf</td>\n",
       "      <td>NaN</td>\n",
       "      <td>mobile</td>\n",
       "      <td>NaN</td>\n",
       "      <td>Apple</td>\n",
       "      <td>NaN</td>\n",
       "      <td>390x844</td>\n",
       "      <td>Safari</td>\n",
       "      <td>Russia</td>\n",
       "      <td>Stavropol</td>\n",
       "    </tr>\n",
       "    <tr>\n",
       "      <th>1860039</th>\n",
       "      <td>9055422955903931195.1636979515.1636979515</td>\n",
       "      <td>2108379955.163697</td>\n",
       "      <td>2021-11-15</td>\n",
       "      <td>15:31:55</td>\n",
       "      <td>1</td>\n",
       "      <td>fDLlAcSmythWSCVMvqvL</td>\n",
       "      <td>(none)</td>\n",
       "      <td>LTuZkdKfxRGVceoWkVyg</td>\n",
       "      <td>JNHcPlZPxEMWDnRiyoBf</td>\n",
       "      <td>puhZPIYqKXeFPaUviSjo</td>\n",
       "      <td>mobile</td>\n",
       "      <td>iOS</td>\n",
       "      <td>Apple</td>\n",
       "      <td>NaN</td>\n",
       "      <td>375x667</td>\n",
       "      <td>Safari</td>\n",
       "      <td>Russia</td>\n",
       "      <td>Moscow</td>\n",
       "    </tr>\n",
       "    <tr>\n",
       "      <th>1860040</th>\n",
       "      <td>905543020766873816.1638189404.1638189404</td>\n",
       "      <td>210838164.163819</td>\n",
       "      <td>2021-11-29</td>\n",
       "      <td>15:36:44</td>\n",
       "      <td>1</td>\n",
       "      <td>ZpYIoDJMcFzVoPFsHGJL</td>\n",
       "      <td>banner</td>\n",
       "      <td>LEoPHuyFvzoNfnzGgfcd</td>\n",
       "      <td>JNHcPlZPxEMWDnRiyoBf</td>\n",
       "      <td>puhZPIYqKXeFPaUviSjo</td>\n",
       "      <td>mobile</td>\n",
       "      <td>Android</td>\n",
       "      <td>Xiaomi</td>\n",
       "      <td>NaN</td>\n",
       "      <td>393x851</td>\n",
       "      <td>Chrome</td>\n",
       "      <td>Russia</td>\n",
       "      <td>Chelyabinsk</td>\n",
       "    </tr>\n",
       "    <tr>\n",
       "      <th>1860041</th>\n",
       "      <td>9055430416266113553.1640968742.1640968742</td>\n",
       "      <td>2108381692.164097</td>\n",
       "      <td>2021-12-31</td>\n",
       "      <td>19:39:02</td>\n",
       "      <td>1</td>\n",
       "      <td>fgymSoTvjKPEgaIJqsiH</td>\n",
       "      <td>cpm</td>\n",
       "      <td>FTjNLDyTrXaWYgZymFkV</td>\n",
       "      <td>yYdBRbPmBMUZHXwqGxNx</td>\n",
       "      <td>oKjXDUsycmahkgMhGdAR</td>\n",
       "      <td>desktop</td>\n",
       "      <td>Linux</td>\n",
       "      <td>NaN</td>\n",
       "      <td>NaN</td>\n",
       "      <td>1366x768</td>\n",
       "      <td>Chrome</td>\n",
       "      <td>Russia</td>\n",
       "      <td>Moscow</td>\n",
       "    </tr>\n",
       "  </tbody>\n",
       "</table>\n",
       "<p>1860042 rows × 18 columns</p>\n",
       "</div>"
      ],
      "text/plain": [
       "                                        session_id          client_id  \\\n",
       "0        9055434745589932991.1637753792.1637753792  2108382700.163776   \n",
       "1         905544597018549464.1636867290.1636867290   210838531.163687   \n",
       "2        9055446045651783499.1640648526.1640648526  2108385331.164065   \n",
       "3        9055447046360770272.1622255328.1622255328  2108385564.162225   \n",
       "4        9055447046360770272.1622255345.1622255345  2108385564.162225   \n",
       "...                                            ...                ...   \n",
       "1860037  9055415581448263752.1640159305.1640159305  2108378238.164016   \n",
       "1860038  9055421130527858185.1622007305.1622007305  2108379530.162201   \n",
       "1860039  9055422955903931195.1636979515.1636979515  2108379955.163697   \n",
       "1860040   905543020766873816.1638189404.1638189404   210838164.163819   \n",
       "1860041  9055430416266113553.1640968742.1640968742  2108381692.164097   \n",
       "\n",
       "         visit_date visit_time  visit_number            utm_source utm_medium  \\\n",
       "0        2021-11-24   14:36:32             1  ZpYIoDJMcFzVoPFsHGJL     banner   \n",
       "1        2021-11-14   08:21:30             1  MvfHsxITijuriZxsqZqt        cpm   \n",
       "2        2021-12-28   02:42:06             1  ZpYIoDJMcFzVoPFsHGJL     banner   \n",
       "3        2021-05-29   05:00:00             1  kjsLglQLzykiRbcDiGcD        cpc   \n",
       "4        2021-05-29   05:00:00             2  kjsLglQLzykiRbcDiGcD        cpc   \n",
       "...             ...        ...           ...                   ...        ...   \n",
       "1860037  2021-12-22   10:48:25             1  BHcvLfOaCWvWTykYqHVe        cpc   \n",
       "1860038  2021-05-26   08:00:00             1  fDLlAcSmythWSCVMvqvL     (none)   \n",
       "1860039  2021-11-15   15:31:55             1  fDLlAcSmythWSCVMvqvL     (none)   \n",
       "1860040  2021-11-29   15:36:44             1  ZpYIoDJMcFzVoPFsHGJL     banner   \n",
       "1860041  2021-12-31   19:39:02             1  fgymSoTvjKPEgaIJqsiH        cpm   \n",
       "\n",
       "                 utm_campaign         utm_adcontent           utm_keyword  \\\n",
       "0        LEoPHuyFvzoNfnzGgfcd  vCIpmpaGBnIQhyYNkXqp  puhZPIYqKXeFPaUviSjo   \n",
       "1        FTjNLDyTrXaWYgZymFkV  xhoenQgDQsgfEPYNPwKO  IGUCNvHlhfHpROGclCit   \n",
       "2        LEoPHuyFvzoNfnzGgfcd  vCIpmpaGBnIQhyYNkXqp  puhZPIYqKXeFPaUviSjo   \n",
       "3                         NaN  NOBKLgtuvqYWkXQHeYWM                   NaN   \n",
       "4                         NaN                   NaN                   NaN   \n",
       "...                       ...                   ...                   ...   \n",
       "1860037                   NaN                   NaN  VlqBmecIOXWjCWUmQkLd   \n",
       "1860038  LTuZkdKfxRGVceoWkVyg  JNHcPlZPxEMWDnRiyoBf                   NaN   \n",
       "1860039  LTuZkdKfxRGVceoWkVyg  JNHcPlZPxEMWDnRiyoBf  puhZPIYqKXeFPaUviSjo   \n",
       "1860040  LEoPHuyFvzoNfnzGgfcd  JNHcPlZPxEMWDnRiyoBf  puhZPIYqKXeFPaUviSjo   \n",
       "1860041  FTjNLDyTrXaWYgZymFkV  yYdBRbPmBMUZHXwqGxNx  oKjXDUsycmahkgMhGdAR   \n",
       "\n",
       "        device_category device_os device_brand device_model  \\\n",
       "0                mobile   Android       Huawei          NaN   \n",
       "1                mobile   Android      Samsung          NaN   \n",
       "2                mobile   Android       Huawei          NaN   \n",
       "3                mobile       NaN       Xiaomi          NaN   \n",
       "4                mobile       NaN       Xiaomi          NaN   \n",
       "...                 ...       ...          ...          ...   \n",
       "1860037         desktop   Windows          NaN          NaN   \n",
       "1860038          mobile       NaN        Apple          NaN   \n",
       "1860039          mobile       iOS        Apple          NaN   \n",
       "1860040          mobile   Android       Xiaomi          NaN   \n",
       "1860041         desktop     Linux          NaN          NaN   \n",
       "\n",
       "        device_screen_resolution    device_browser geo_country     geo_city  \n",
       "0                        360x720            Chrome      Russia     Zlatoust  \n",
       "1                        385x854  Samsung Internet      Russia       Moscow  \n",
       "2                        360x720            Chrome      Russia  Krasnoyarsk  \n",
       "3                        393x786            Chrome      Russia       Moscow  \n",
       "4                        393x786            Chrome      Russia       Moscow  \n",
       "...                          ...               ...         ...          ...  \n",
       "1860037                1920x1080            Chrome      Russia       Moscow  \n",
       "1860038                  390x844            Safari      Russia    Stavropol  \n",
       "1860039                  375x667            Safari      Russia       Moscow  \n",
       "1860040                  393x851            Chrome      Russia  Chelyabinsk  \n",
       "1860041                 1366x768            Chrome      Russia       Moscow  \n",
       "\n",
       "[1860042 rows x 18 columns]"
      ]
     },
     "execution_count": 2,
     "metadata": {},
     "output_type": "execute_result"
    }
   ],
   "source": [
    "df_sessions = pd.read_csv('ga_sessions.csv')\n",
    "df_sessions"
   ]
  },
  {
   "cell_type": "markdown",
   "id": "e8543de2",
   "metadata": {},
   "source": [
    "## Информация о датасете визитов"
   ]
  },
  {
   "cell_type": "code",
   "execution_count": 3,
   "id": "d233b28c",
   "metadata": {},
   "outputs": [
    {
     "name": "stdout",
     "output_type": "stream",
     "text": [
      "<class 'pandas.core.frame.DataFrame'>\n",
      "RangeIndex: 1860042 entries, 0 to 1860041\n",
      "Data columns (total 18 columns):\n",
      " #   Column                    Dtype \n",
      "---  ------                    ----- \n",
      " 0   session_id                object\n",
      " 1   client_id                 object\n",
      " 2   visit_date                object\n",
      " 3   visit_time                object\n",
      " 4   visit_number              int64 \n",
      " 5   utm_source                object\n",
      " 6   utm_medium                object\n",
      " 7   utm_campaign              object\n",
      " 8   utm_adcontent             object\n",
      " 9   utm_keyword               object\n",
      " 10  device_category           object\n",
      " 11  device_os                 object\n",
      " 12  device_brand              object\n",
      " 13  device_model              object\n",
      " 14  device_screen_resolution  object\n",
      " 15  device_browser            object\n",
      " 16  geo_country               object\n",
      " 17  geo_city                  object\n",
      "dtypes: int64(1), object(17)\n",
      "memory usage: 255.4+ MB\n"
     ]
    }
   ],
   "source": [
    "df_sessions.info()"
   ]
  },
  {
   "cell_type": "code",
   "execution_count": 4,
   "id": "b071df80",
   "metadata": {},
   "outputs": [],
   "source": [
    "def print_useful_rows_info(df):\n",
    "    print('Количество полностью заполненных объектов: ', len(df.dropna()))\n",
    "    print('Процент полностью заполненных объектов: ', round(len(df.dropna())/len(df) * 100, 2))\n",
    "    missing_values = ((df.isna().sum() / len(df)) * 100).sort_values(ascending = False)\n",
    "    print('Список признаков с пропущенными значениями: ', missing_values[missing_values.values > 0].index.tolist())"
   ]
  },
  {
   "cell_type": "code",
   "execution_count": 5,
   "id": "1b2c3eb3",
   "metadata": {},
   "outputs": [
    {
     "name": "stdout",
     "output_type": "stream",
     "text": [
      "Количество полностью заполненных объектов:  14940\n",
      "Процент полностью заполненных объектов:  0.8\n",
      "Список признаков с пропущенными значениями:  ['device_model', 'utm_keyword', 'device_os', 'device_brand', 'utm_adcontent', 'utm_campaign', 'utm_source']\n"
     ]
    }
   ],
   "source": [
    "print_useful_rows_info(df_sessions)"
   ]
  },
  {
   "cell_type": "markdown",
   "id": "991837a6",
   "metadata": {},
   "source": [
    "## Матрица пропусков"
   ]
  },
  {
   "cell_type": "code",
   "execution_count": 6,
   "id": "43391d02",
   "metadata": {
    "scrolled": true
   },
   "outputs": [
    {
     "data": {
      "text/plain": [
       "<Axes: >"
      ]
     },
     "execution_count": 6,
     "metadata": {},
     "output_type": "execute_result"
    },
    {
     "data": {
      "image/png": "[encoded data removed]",
      "text/plain": [
       "<Figure size 2500x1000 with 2 Axes>"
      ]
     },
     "metadata": {},
     "output_type": "display_data"
    }
   ],
   "source": [
    "# матрица пропусков\n",
    "msno.matrix(df_sessions)"
   ]
  },
  {
   "cell_type": "markdown",
   "id": "5713b51d",
   "metadata": {},
   "source": [
    "### Просмотр значений признаков и их количества"
   ]
  },
  {
   "cell_type": "markdown",
   "id": "2e4add80",
   "metadata": {},
   "source": [
    "Тип привлечения клиентов (utm_medium):"
   ]
  },
  {
   "cell_type": "code",
   "execution_count": 7,
   "id": "c4e9ce33",
   "metadata": {},
   "outputs": [
    {
     "data": {
      "text/plain": [
       "banner               552272\n",
       "cpc                  434794\n",
       "(none)               300575\n",
       "cpm                  242083\n",
       "referral             152050\n",
       "organic               63034\n",
       "email                 29240\n",
       "push                  28035\n",
       "stories               10582\n",
       "cpv                    8022\n",
       "blogger_channel        8015\n",
       "smartbanner            6794\n",
       "blogger_stories        4312\n",
       "cpa                    4279\n",
       "tg                     4011\n",
       "app                    2836\n",
       "post                   2326\n",
       "smm                    1985\n",
       "outlook                1332\n",
       "clicks                  934\n",
       "blogger_header          771\n",
       "(not set)               480\n",
       "info_text               343\n",
       "sms                     239\n",
       "landing                 134\n",
       "partner                  97\n",
       "fb_smm                   66\n",
       "vk_smm                   65\n",
       "link                     57\n",
       "cbaafe                   47\n",
       "CPM                      40\n",
       "yandex_cpc               36\n",
       "ok_smm                   28\n",
       "static                   22\n",
       "google_cpc               20\n",
       "article                  17\n",
       "nkp                      14\n",
       "web_polka                11\n",
       "social                    9\n",
       "medium                    8\n",
       "main_polka                4\n",
       "catalogue                 4\n",
       "users_msk                 3\n",
       "reach                     2\n",
       "promo_sber                2\n",
       "linktest                  2\n",
       "promo_sbol                1\n",
       "Sbol_catalog              1\n",
       "desktop                   1\n",
       "dom_click                 1\n",
       "tablet                    1\n",
       "sber_app                  1\n",
       "last                      1\n",
       "qr                        1\n",
       "qrcodevideo               1\n",
       "landing_interests         1\n",
       "Name: utm_medium, dtype: int64"
      ]
     },
     "execution_count": 7,
     "metadata": {},
     "output_type": "execute_result"
    }
   ],
   "source": [
    "df_sessions.utm_medium.value_counts(dropna=False)"
   ]
  },
  {
   "cell_type": "markdown",
   "id": "778ddb3d",
   "metadata": {},
   "source": [
    "Тип устройства:"
   ]
  },
  {
   "cell_type": "code",
   "execution_count": 8,
   "id": "62401ca1",
   "metadata": {},
   "outputs": [
    {
     "data": {
      "text/plain": [
       "mobile     1474871\n",
       "desktop     366863\n",
       "tablet       18308\n",
       "Name: device_category, dtype: int64"
      ]
     },
     "execution_count": 8,
     "metadata": {},
     "output_type": "execute_result"
    }
   ],
   "source": [
    "df_sessions.device_category.value_counts(dropna=False)"
   ]
  },
  {
   "cell_type": "markdown",
   "id": "21ca3db7",
   "metadata": {},
   "source": [
    "Страна и город"
   ]
  },
  {
   "cell_type": "code",
   "execution_count": 9,
   "id": "c1bc9b0f",
   "metadata": {},
   "outputs": [
    {
     "data": {
      "text/plain": [
       "Russia                 1800565\n",
       "United States            11784\n",
       "Ukraine                   9012\n",
       "Ireland                   4034\n",
       "Belarus                   3636\n",
       "                        ...   \n",
       "Zambia                       1\n",
       "Malawi                       1\n",
       "Réunion                      1\n",
       "Barbados                     1\n",
       "Congo - Brazzaville          1\n",
       "Name: geo_country, Length: 166, dtype: int64"
      ]
     },
     "execution_count": 9,
     "metadata": {},
     "output_type": "execute_result"
    }
   ],
   "source": [
    "df_sessions.geo_country.value_counts(dropna=False)"
   ]
  },
  {
   "cell_type": "code",
   "execution_count": 10,
   "id": "98bb7afa",
   "metadata": {},
   "outputs": [
    {
     "data": {
      "text/plain": [
       "Moscow              805329\n",
       "Saint Petersburg    296788\n",
       "(not set)            78172\n",
       "Yekaterinburg        35788\n",
       "Krasnodar            32243\n",
       "                     ...  \n",
       "Sherbrooke               1\n",
       "Albion                   1\n",
       "Bornheim                 1\n",
       "Huntley                  1\n",
       "Sommerda                 1\n",
       "Name: geo_city, Length: 2548, dtype: int64"
      ]
     },
     "execution_count": 10,
     "metadata": {},
     "output_type": "execute_result"
    }
   ],
   "source": [
    "df_sessions.geo_city.value_counts(dropna=False)"
   ]
  },
  {
   "cell_type": "markdown",
   "id": "4e7f91bc",
   "metadata": {},
   "source": [
    "Проверка наличия дубликатов"
   ]
  },
  {
   "cell_type": "code",
   "execution_count": 11,
   "id": "29b1acc6",
   "metadata": {},
   "outputs": [
    {
     "data": {
      "text/html": [
       "<div>\n",
       "<style scoped>\n",
       "    .dataframe tbody tr th:only-of-type {\n",
       "        vertical-align: middle;\n",
       "    }\n",
       "\n",
       "    .dataframe tbody tr th {\n",
       "        vertical-align: top;\n",
       "    }\n",
       "\n",
       "    .dataframe thead th {\n",
       "        text-align: right;\n",
       "    }\n",
       "</style>\n",
       "<table border=\"1\" class=\"dataframe\">\n",
       "  <thead>\n",
       "    <tr style=\"text-align: right;\">\n",
       "      <th></th>\n",
       "      <th>session_id</th>\n",
       "      <th>client_id</th>\n",
       "      <th>visit_date</th>\n",
       "      <th>visit_time</th>\n",
       "      <th>visit_number</th>\n",
       "      <th>utm_source</th>\n",
       "      <th>utm_medium</th>\n",
       "      <th>utm_campaign</th>\n",
       "      <th>utm_adcontent</th>\n",
       "      <th>utm_keyword</th>\n",
       "      <th>device_category</th>\n",
       "      <th>device_os</th>\n",
       "      <th>device_brand</th>\n",
       "      <th>device_model</th>\n",
       "      <th>device_screen_resolution</th>\n",
       "      <th>device_browser</th>\n",
       "      <th>geo_country</th>\n",
       "      <th>geo_city</th>\n",
       "    </tr>\n",
       "  </thead>\n",
       "  <tbody>\n",
       "  </tbody>\n",
       "</table>\n",
       "</div>"
      ],
      "text/plain": [
       "Empty DataFrame\n",
       "Columns: [session_id, client_id, visit_date, visit_time, visit_number, utm_source, utm_medium, utm_campaign, utm_adcontent, utm_keyword, device_category, device_os, device_brand, device_model, device_screen_resolution, device_browser, geo_country, geo_city]\n",
       "Index: []"
      ]
     },
     "execution_count": 11,
     "metadata": {},
     "output_type": "execute_result"
    }
   ],
   "source": [
    "df_sessions[df_sessions.duplicated()]"
   ]
  },
  {
   "cell_type": "markdown",
   "id": "92682229",
   "metadata": {},
   "source": [
    "Дубликатов нет"
   ]
  },
  {
   "cell_type": "markdown",
   "id": "d1c49754",
   "metadata": {},
   "source": [
    "## Data Cleaning (датасет визитов(df_s))"
   ]
  },
  {
   "cell_type": "code",
   "execution_count": 12,
   "id": "08b93a4e",
   "metadata": {},
   "outputs": [],
   "source": [
    "df_s = df_sessions.copy()"
   ]
  },
  {
   "cell_type": "markdown",
   "id": "301fb7bc",
   "metadata": {},
   "source": [
    "Очистка датасета от избыточной информации"
   ]
  },
  {
   "cell_type": "code",
   "execution_count": 13,
   "id": "6b41d9a6",
   "metadata": {},
   "outputs": [],
   "source": [
    "df_s = df_s.drop(columns = ['client_id',\n",
    "                            'visit_date', \n",
    "                            'visit_time',\n",
    "                            'utm_adcontent',\n",
    "                            'utm_keyword',\n",
    "                            'device_os',\n",
    "                            'device_brand',\n",
    "                            'device_model',\n",
    "                            'device_screen_resolution', \n",
    "                            'device_browser',\n",
    "                            'geo_country'], axis=1)"
   ]
  },
  {
   "cell_type": "markdown",
   "id": "019916d0",
   "metadata": {},
   "source": [
    "Матрица пропусков в значениях:"
   ]
  },
  {
   "cell_type": "code",
   "execution_count": 14,
   "id": "f9f79c9b",
   "metadata": {},
   "outputs": [
    {
     "data": {
      "image/png": "[encoded data removed]",
      "text/plain": [
       "<Figure size 2500x1000 with 2 Axes>"
      ]
     },
     "metadata": {},
     "output_type": "display_data"
    }
   ],
   "source": [
    "msno.matrix(df_s);"
   ]
  },
  {
   "cell_type": "markdown",
   "id": "b0289c75",
   "metadata": {},
   "source": [
    "Признак 'utm_source': замена пустых значений на значение 'other'"
   ]
  },
  {
   "cell_type": "code",
   "execution_count": 15,
   "id": "d9f19109",
   "metadata": {},
   "outputs": [
    {
     "data": {
      "text/plain": [
       "97"
      ]
     },
     "execution_count": 15,
     "metadata": {},
     "output_type": "execute_result"
    }
   ],
   "source": [
    "df_s.utm_source.isna().sum()"
   ]
  },
  {
   "cell_type": "code",
   "execution_count": 16,
   "id": "8640d740",
   "metadata": {},
   "outputs": [],
   "source": [
    "df_s.utm_source = df_s.utm_source.fillna('other')"
   ]
  },
  {
   "cell_type": "markdown",
   "id": "51ca10b1",
   "metadata": {},
   "source": [
    "Признак 'utm_campaign': замена пустых значений на значение 'other'"
   ]
  },
  {
   "cell_type": "code",
   "execution_count": 17,
   "id": "d7517f7a",
   "metadata": {},
   "outputs": [
    {
     "data": {
      "text/plain": [
       "LTuZkdKfxRGVceoWkVyg    463481\n",
       "LEoPHuyFvzoNfnzGgfcd    324044\n",
       "FTjNLDyTrXaWYgZymFkV    247360\n",
       "NaN                     219603\n",
       "gecBYcKZCPMcVYdSSzKP    134042\n",
       "                         ...  \n",
       "RkpOyeEPgcMBSDuHLQcj         1\n",
       "pcvPxfVFaAmhwFmvIeYd         1\n",
       "qPDTdivQVeflLjTYIJnG         1\n",
       "MHdHrBKQwbDaRalwnlJq         1\n",
       "cXxuwXPoQCvAXPHpFcZl         1\n",
       "Name: utm_campaign, Length: 413, dtype: int64"
      ]
     },
     "execution_count": 17,
     "metadata": {},
     "output_type": "execute_result"
    }
   ],
   "source": [
    "df_s.utm_campaign.value_counts(dropna=False)"
   ]
  },
  {
   "cell_type": "code",
   "execution_count": 18,
   "id": "18295b72",
   "metadata": {},
   "outputs": [],
   "source": [
    "df_s.utm_campaign = df_s.utm_campaign.fillna('other')"
   ]
  },
  {
   "cell_type": "markdown",
   "id": "3d13cd5c",
   "metadata": {},
   "source": [
    "Признак 'device_brand': замена пустых значений на значение 'other'"
   ]
  },
  {
   "cell_type": "code",
   "execution_count": 19,
   "id": "44d43ad5",
   "metadata": {},
   "outputs": [
    {
     "name": "stdout",
     "output_type": "stream",
     "text": [
      "Количество полностью заполненных объектов:  1860042\n",
      "Процент полностью заполненных объектов:  100.0\n",
      "Список признаков с пропущенными значениями:  []\n"
     ]
    }
   ],
   "source": [
    "print_useful_rows_info(df_s)"
   ]
  },
  {
   "cell_type": "markdown",
   "id": "d16b27be",
   "metadata": {},
   "source": [
    "Создание признака 'traffic' для разделения его на 2 категории: \n",
    "- органический - ['organic','referral','(none)']\n",
    "- платный - (все остальное)"
   ]
  },
  {
   "cell_type": "code",
   "execution_count": 20,
   "id": "774b4a65",
   "metadata": {},
   "outputs": [],
   "source": [
    "df_s['traffic'] = df_s['utm_medium'].apply(lambda x: 'organic' if x in ['organic','referral', '(none)'] else 'paid')"
   ]
  },
  {
   "cell_type": "code",
   "execution_count": 21,
   "id": "9e676279",
   "metadata": {},
   "outputs": [],
   "source": [
    "df_s = df_s.drop(columns=['utm_medium'], axis=1)"
   ]
  },
  {
   "cell_type": "markdown",
   "id": "e9fecfa4",
   "metadata": {},
   "source": [
    "Разделение географического признака на 'capital' и 'other'"
   ]
  },
  {
   "cell_type": "code",
   "execution_count": 22,
   "id": "da21b451",
   "metadata": {},
   "outputs": [],
   "source": [
    "capital = ['Avsyunino', 'Andreevka', 'Aprelevka', 'Arkhangelskoe', 'Ateptsevo', 'Ashukino', 'Balashikha', 'Barvikha', 'Beloozersky', 'Biocombinat',\n",
    "      'Bolshoye', 'Bunkovo', 'Bronnitsy', 'Bykovo', 'Vereya', 'Verbilki', 'Vidnoe', 'Vinogradovo', 'Vlasikha', 'Vniissok', 'Vnukovo', 'Volokolamsk',\n",
    "      'Vorovsky', 'Voskresensk', 'Vysokovsk', 'Gzhel', 'Glebovsky', 'Golitsyno', 'Gorki', 'Davydovo', 'Dedenevo', 'Dedovsk', 'Demikhovo', 'Dzerzhinsky',\n",
    "      'Dmitrov', 'Dolgoprudny', 'Domodedovo', 'Dorokhovo', 'Drezna', 'Dubna', 'Yegoryevsk', 'Zhavoronki', 'Zheleznodorozhny', 'Zhilevo', 'Zhukovsky', \n",
    "      'Zagoryansky', 'Zaprudnya', 'Zaraysk', 'Zvezdny Gorodok', 'Zvenigorod', 'Zelenograd', 'Ivanteevka', 'Iksha', 'Ilyinsky', 'Istra', 'Kalininets', 'Kapustino', \n",
    "      'Kashira','Klimovsk', 'Klin', 'Kokoshkino', 'Kolomna', 'Kolyubakino', 'Kommunarka', 'Konobeevo', 'Korolev', 'Kostrovo', 'Kotelniki', 'Kraskovo', \n",
    "      'Krasnoarmeysk', 'Krasnogorsk', 'Krasnozavodsk', 'Krasnoznamensk', 'Kratovo', 'Kubinka', 'Kudinovo', 'Kuznetsy', 'Kurovskoe', 'Lesnoy Gorodok',\n",
    "      'Likino-Dulevo', 'Litvinovo', 'Lobnya', 'Losino-Petrovsky', 'Lotoshino', 'Lukhovitsy', 'Lytkarino', 'Lvovsky', 'Lyubertsy', 'Lyubuchany',\n",
    "      'Malakhovka', 'Malino', 'Marfino', 'Mendeleevo', 'Mitino', 'Mikhnevo', 'Mozhaisk', 'Molodezhny', 'Monino', 'Moscow', 'Moscowsky', 'Mytishchi',\n",
    "      'Naro-Fominsk', 'Nakhabino', 'Nekrasovsky', 'Nesterovo', 'Novopetrovskoe', 'Novosinkovo', 'Novy Gorod', 'Noginsk', 'Obolensk', 'Obukhovo', \n",
    "      'Odintsovo', 'Ozherelie', 'Ozery', 'Oktiabrsky', 'Orekhovo-Zuevo', 'Ostashevo', 'Otradnoe', 'Ostrovtsy', 'Pavlovskaya Sloboda', 'Pavlovsky Posad',\n",
    "      'Peresvet', 'Pirogovo', 'Povarovo', 'Podolsk', 'Pravdinsky', 'Proletarsky', 'Protvino', 'Putilkovo', 'Pushkino', 'Pushchino', 'Ramenskoye', \n",
    "      'Rastunovo', 'Remmash', 'Reutov', 'Rogachevo', 'Rodniki', 'Rozhdestveno', 'Roshal', 'Ruza', 'Sverdlovsky', 'Selyatino', 'Sergiev Posad', \n",
    "      'Serebrynye Prudy', 'Serpukhov', 'Snegiri','Solnechnogorsk', 'Solntsevo', 'Sofrino','Staraya Kupavna', 'Stary Gorodok', 'Stolbovaya',\n",
    "      'Stupino', 'Sychevo', 'Shodnya', 'Taldom', 'Taraskovo', 'Tomilino', 'Troitsk', 'Troitskoe', 'Tuchkovo', 'Uvarovka', 'Udelnaya', 'Uzunovo',\n",
    "      'Fryazevo', 'Fryazino', 'Fryanovo', 'Khimki', 'Khotkovo', 'Chastsy', 'Chernogolovka', 'Chekhov', 'Shatura', 'Shaturtorf', 'Shakhovskaya', \n",
    "      'Shchelkovo', 'Shcherbinka', 'Elektrogorsk', 'Elektrostal', 'Elektrougli', 'Ubileyny', 'Yakhroma', 'Saint Petersburg']"
   ]
  },
  {
   "cell_type": "code",
   "execution_count": 23,
   "id": "4a349e1a",
   "metadata": {},
   "outputs": [],
   "source": [
    "df_s['geo_city'] = df_sessions['geo_city'].apply(lambda x: 'capital' if x in capital else 'other')"
   ]
  },
  {
   "cell_type": "code",
   "execution_count": 24,
   "id": "cff78954",
   "metadata": {},
   "outputs": [
    {
     "data": {
      "text/plain": [
       "capital    1197897\n",
       "other       662145\n",
       "Name: geo_city, dtype: int64"
      ]
     },
     "execution_count": 24,
     "metadata": {},
     "output_type": "execute_result"
    }
   ],
   "source": [
    "df_s.geo_city.value_counts()"
   ]
  },
  {
   "cell_type": "code",
   "execution_count": 25,
   "id": "a07cecec",
   "metadata": {},
   "outputs": [],
   "source": [
    "df_s['utm_source'] = df_sessions['utm_source'].apply(lambda x: 'social_network' if x in \n",
    "                                                          [\n",
    "                                                            'QxAxdyPLuQMEcrdZWdWb', \n",
    "                                                            'MvfHsxITijuriZxsqZqt', \n",
    "                                                            'ISrKoXQCxqqYvAZICvjs',\n",
    "                                                            'IZEXUFLARCUMynmHNBGo', \n",
    "                                                            'PlbkrSYoHuZBWfYjYnfw',\n",
    "                                                            'gVRrcxiDQubJiljoTbGm'\n",
    "                                                        ]\n",
    "                                                                                      else 'other_source')"
   ]
  },
  {
   "cell_type": "code",
   "execution_count": 26,
   "id": "7655b018",
   "metadata": {},
   "outputs": [
    {
     "data": {
      "text/plain": [
       "other_source      1585815\n",
       "social_network     274227\n",
       "Name: utm_source, dtype: int64"
      ]
     },
     "execution_count": 26,
     "metadata": {},
     "output_type": "execute_result"
    }
   ],
   "source": [
    "df_s.utm_source.value_counts()"
   ]
  },
  {
   "cell_type": "code",
   "execution_count": 27,
   "id": "c2d4d252",
   "metadata": {},
   "outputs": [
    {
     "data": {
      "text/html": [
       "<div>\n",
       "<style scoped>\n",
       "    .dataframe tbody tr th:only-of-type {\n",
       "        vertical-align: middle;\n",
       "    }\n",
       "\n",
       "    .dataframe tbody tr th {\n",
       "        vertical-align: top;\n",
       "    }\n",
       "\n",
       "    .dataframe thead th {\n",
       "        text-align: right;\n",
       "    }\n",
       "</style>\n",
       "<table border=\"1\" class=\"dataframe\">\n",
       "  <thead>\n",
       "    <tr style=\"text-align: right;\">\n",
       "      <th></th>\n",
       "      <th>session_id</th>\n",
       "      <th>visit_number</th>\n",
       "      <th>utm_source</th>\n",
       "      <th>utm_campaign</th>\n",
       "      <th>device_category</th>\n",
       "      <th>geo_city</th>\n",
       "      <th>traffic</th>\n",
       "    </tr>\n",
       "  </thead>\n",
       "  <tbody>\n",
       "    <tr>\n",
       "      <th>0</th>\n",
       "      <td>9055434745589932991.1637753792.1637753792</td>\n",
       "      <td>1</td>\n",
       "      <td>other_source</td>\n",
       "      <td>LEoPHuyFvzoNfnzGgfcd</td>\n",
       "      <td>mobile</td>\n",
       "      <td>other</td>\n",
       "      <td>paid</td>\n",
       "    </tr>\n",
       "    <tr>\n",
       "      <th>1</th>\n",
       "      <td>905544597018549464.1636867290.1636867290</td>\n",
       "      <td>1</td>\n",
       "      <td>social_network</td>\n",
       "      <td>FTjNLDyTrXaWYgZymFkV</td>\n",
       "      <td>mobile</td>\n",
       "      <td>capital</td>\n",
       "      <td>paid</td>\n",
       "    </tr>\n",
       "    <tr>\n",
       "      <th>2</th>\n",
       "      <td>9055446045651783499.1640648526.1640648526</td>\n",
       "      <td>1</td>\n",
       "      <td>other_source</td>\n",
       "      <td>LEoPHuyFvzoNfnzGgfcd</td>\n",
       "      <td>mobile</td>\n",
       "      <td>other</td>\n",
       "      <td>paid</td>\n",
       "    </tr>\n",
       "    <tr>\n",
       "      <th>3</th>\n",
       "      <td>9055447046360770272.1622255328.1622255328</td>\n",
       "      <td>1</td>\n",
       "      <td>other_source</td>\n",
       "      <td>other</td>\n",
       "      <td>mobile</td>\n",
       "      <td>capital</td>\n",
       "      <td>paid</td>\n",
       "    </tr>\n",
       "    <tr>\n",
       "      <th>4</th>\n",
       "      <td>9055447046360770272.1622255345.1622255345</td>\n",
       "      <td>2</td>\n",
       "      <td>other_source</td>\n",
       "      <td>other</td>\n",
       "      <td>mobile</td>\n",
       "      <td>capital</td>\n",
       "      <td>paid</td>\n",
       "    </tr>\n",
       "    <tr>\n",
       "      <th>...</th>\n",
       "      <td>...</td>\n",
       "      <td>...</td>\n",
       "      <td>...</td>\n",
       "      <td>...</td>\n",
       "      <td>...</td>\n",
       "      <td>...</td>\n",
       "      <td>...</td>\n",
       "    </tr>\n",
       "    <tr>\n",
       "      <th>1860037</th>\n",
       "      <td>9055415581448263752.1640159305.1640159305</td>\n",
       "      <td>1</td>\n",
       "      <td>other_source</td>\n",
       "      <td>other</td>\n",
       "      <td>desktop</td>\n",
       "      <td>capital</td>\n",
       "      <td>paid</td>\n",
       "    </tr>\n",
       "    <tr>\n",
       "      <th>1860038</th>\n",
       "      <td>9055421130527858185.1622007305.1622007305</td>\n",
       "      <td>1</td>\n",
       "      <td>other_source</td>\n",
       "      <td>LTuZkdKfxRGVceoWkVyg</td>\n",
       "      <td>mobile</td>\n",
       "      <td>other</td>\n",
       "      <td>organic</td>\n",
       "    </tr>\n",
       "    <tr>\n",
       "      <th>1860039</th>\n",
       "      <td>9055422955903931195.1636979515.1636979515</td>\n",
       "      <td>1</td>\n",
       "      <td>other_source</td>\n",
       "      <td>LTuZkdKfxRGVceoWkVyg</td>\n",
       "      <td>mobile</td>\n",
       "      <td>capital</td>\n",
       "      <td>organic</td>\n",
       "    </tr>\n",
       "    <tr>\n",
       "      <th>1860040</th>\n",
       "      <td>905543020766873816.1638189404.1638189404</td>\n",
       "      <td>1</td>\n",
       "      <td>other_source</td>\n",
       "      <td>LEoPHuyFvzoNfnzGgfcd</td>\n",
       "      <td>mobile</td>\n",
       "      <td>other</td>\n",
       "      <td>paid</td>\n",
       "    </tr>\n",
       "    <tr>\n",
       "      <th>1860041</th>\n",
       "      <td>9055430416266113553.1640968742.1640968742</td>\n",
       "      <td>1</td>\n",
       "      <td>other_source</td>\n",
       "      <td>FTjNLDyTrXaWYgZymFkV</td>\n",
       "      <td>desktop</td>\n",
       "      <td>capital</td>\n",
       "      <td>paid</td>\n",
       "    </tr>\n",
       "  </tbody>\n",
       "</table>\n",
       "<p>1860042 rows × 7 columns</p>\n",
       "</div>"
      ],
      "text/plain": [
       "                                        session_id  visit_number  \\\n",
       "0        9055434745589932991.1637753792.1637753792             1   \n",
       "1         905544597018549464.1636867290.1636867290             1   \n",
       "2        9055446045651783499.1640648526.1640648526             1   \n",
       "3        9055447046360770272.1622255328.1622255328             1   \n",
       "4        9055447046360770272.1622255345.1622255345             2   \n",
       "...                                            ...           ...   \n",
       "1860037  9055415581448263752.1640159305.1640159305             1   \n",
       "1860038  9055421130527858185.1622007305.1622007305             1   \n",
       "1860039  9055422955903931195.1636979515.1636979515             1   \n",
       "1860040   905543020766873816.1638189404.1638189404             1   \n",
       "1860041  9055430416266113553.1640968742.1640968742             1   \n",
       "\n",
       "             utm_source          utm_campaign device_category geo_city  \\\n",
       "0          other_source  LEoPHuyFvzoNfnzGgfcd          mobile    other   \n",
       "1        social_network  FTjNLDyTrXaWYgZymFkV          mobile  capital   \n",
       "2          other_source  LEoPHuyFvzoNfnzGgfcd          mobile    other   \n",
       "3          other_source                 other          mobile  capital   \n",
       "4          other_source                 other          mobile  capital   \n",
       "...                 ...                   ...             ...      ...   \n",
       "1860037    other_source                 other         desktop  capital   \n",
       "1860038    other_source  LTuZkdKfxRGVceoWkVyg          mobile    other   \n",
       "1860039    other_source  LTuZkdKfxRGVceoWkVyg          mobile  capital   \n",
       "1860040    other_source  LEoPHuyFvzoNfnzGgfcd          mobile    other   \n",
       "1860041    other_source  FTjNLDyTrXaWYgZymFkV         desktop  capital   \n",
       "\n",
       "         traffic  \n",
       "0           paid  \n",
       "1           paid  \n",
       "2           paid  \n",
       "3           paid  \n",
       "4           paid  \n",
       "...          ...  \n",
       "1860037     paid  \n",
       "1860038  organic  \n",
       "1860039  organic  \n",
       "1860040     paid  \n",
       "1860041     paid  \n",
       "\n",
       "[1860042 rows x 7 columns]"
      ]
     },
     "execution_count": 27,
     "metadata": {},
     "output_type": "execute_result"
    }
   ],
   "source": [
    "df_s"
   ]
  },
  {
   "cell_type": "markdown",
   "id": "6fcc390f",
   "metadata": {},
   "source": [
    "### Распределение ключевых атрибутов "
   ]
  },
  {
   "cell_type": "code",
   "execution_count": 28,
   "id": "76f17f95",
   "metadata": {},
   "outputs": [
    {
     "data": {
      "image/png": "[encoded data removed]",
      "text/plain": [
       "<Figure size 800x500 with 1 Axes>"
      ]
     },
     "metadata": {},
     "output_type": "display_data"
    }
   ],
   "source": [
    "fig, ax = plt.subplots(figsize=(8,5))\n",
    "ax.hist(df_s.device_category, bins=5)\n",
    "ax.set_xlabel('Тип устройства')\n",
    "ax.set_ylabel('Количество')\n",
    "ax.set_title('Распределение типов устройств')\n",
    "ax.yaxis.set_major_formatter(FormatStrFormatter('%.0f'));"
   ]
  },
  {
   "cell_type": "code",
   "execution_count": 29,
   "id": "00a2aa0e",
   "metadata": {},
   "outputs": [
    {
     "data": {
      "image/png": "[encoded data removed]",
      "text/plain": [
       "<Figure size 600x500 with 1 Axes>"
      ]
     },
     "metadata": {},
     "output_type": "display_data"
    }
   ],
   "source": [
    "fig, ax = plt.subplots(figsize=(6,5))\n",
    "ax.hist(df_s.geo_city, bins=5)\n",
    "ax.set_xlabel('Город присутствия')\n",
    "ax.set_ylabel('Количество')\n",
    "ax.set_title('Распределение городов присутствия')\n",
    "ax.yaxis.set_major_formatter(FormatStrFormatter('%.0f'));"
   ]
  },
  {
   "cell_type": "code",
   "execution_count": 30,
   "id": "2f4185a1",
   "metadata": {},
   "outputs": [
    {
     "data": {
      "image/png": "[encoded data removed]",
      "text/plain": [
       "<Figure size 600x500 with 1 Axes>"
      ]
     },
     "metadata": {},
     "output_type": "display_data"
    }
   ],
   "source": [
    "fig, ax = plt.subplots(figsize=(6,5))\n",
    "ax.hist(df_s.traffic, bins=5)\n",
    "ax.set_xlabel('Трафик')\n",
    "ax.set_ylabel('Количество')\n",
    "ax.set_title('Распределение трафика')\n",
    "ax.yaxis.set_major_formatter(FormatStrFormatter('%.0f'));"
   ]
  },
  {
   "cell_type": "code",
   "execution_count": 31,
   "id": "fdf11480",
   "metadata": {},
   "outputs": [
    {
     "data": {
      "image/png": "[encoded data removed]",
      "text/plain": [
       "<Figure size 600x500 with 1 Axes>"
      ]
     },
     "metadata": {},
     "output_type": "display_data"
    }
   ],
   "source": [
    "fig, ax = plt.subplots(figsize=(6,5))\n",
    "ax.hist(df_s.utm_source, bins=5)\n",
    "ax.set_xlabel('Канал привлечения')\n",
    "ax.set_ylabel('Количество')\n",
    "ax.set_title('Распределение каналов привлечения')\n",
    "ax.yaxis.set_major_formatter(FormatStrFormatter('%.0f'));"
   ]
  },
  {
   "cell_type": "markdown",
   "id": "137615e6",
   "metadata": {},
   "source": [
    "# ЗАГРУЗКА ДАТАСЕТА СОБЫТИЙ (df_hits)"
   ]
  },
  {
   "cell_type": "code",
   "execution_count": 32,
   "id": "4dcfba86",
   "metadata": {},
   "outputs": [
    {
     "data": {
      "text/html": [
       "<div>\n",
       "<style scoped>\n",
       "    .dataframe tbody tr th:only-of-type {\n",
       "        vertical-align: middle;\n",
       "    }\n",
       "\n",
       "    .dataframe tbody tr th {\n",
       "        vertical-align: top;\n",
       "    }\n",
       "\n",
       "    .dataframe thead th {\n",
       "        text-align: right;\n",
       "    }\n",
       "</style>\n",
       "<table border=\"1\" class=\"dataframe\">\n",
       "  <thead>\n",
       "    <tr style=\"text-align: right;\">\n",
       "      <th></th>\n",
       "      <th>session_id</th>\n",
       "      <th>hit_date</th>\n",
       "      <th>hit_time</th>\n",
       "      <th>hit_number</th>\n",
       "      <th>hit_type</th>\n",
       "      <th>hit_referer</th>\n",
       "      <th>hit_page_path</th>\n",
       "      <th>event_category</th>\n",
       "      <th>event_action</th>\n",
       "      <th>event_label</th>\n",
       "      <th>event_value</th>\n",
       "    </tr>\n",
       "  </thead>\n",
       "  <tbody>\n",
       "    <tr>\n",
       "      <th>0</th>\n",
       "      <td>5639623078712724064.1640254056.1640254056</td>\n",
       "      <td>2021-12-23</td>\n",
       "      <td>597864.0</td>\n",
       "      <td>30</td>\n",
       "      <td>event</td>\n",
       "      <td>NaN</td>\n",
       "      <td>sberauto.com/cars?utm_source_initial=google&amp;ut...</td>\n",
       "      <td>quiz</td>\n",
       "      <td>quiz_show</td>\n",
       "      <td>NaN</td>\n",
       "      <td>NaN</td>\n",
       "    </tr>\n",
       "    <tr>\n",
       "      <th>1</th>\n",
       "      <td>7750352294969115059.1640271109.1640271109</td>\n",
       "      <td>2021-12-23</td>\n",
       "      <td>597331.0</td>\n",
       "      <td>41</td>\n",
       "      <td>event</td>\n",
       "      <td>NaN</td>\n",
       "      <td>sberauto.com/cars/fiat?city=1&amp;city=18&amp;rental_c...</td>\n",
       "      <td>quiz</td>\n",
       "      <td>quiz_show</td>\n",
       "      <td>NaN</td>\n",
       "      <td>NaN</td>\n",
       "    </tr>\n",
       "    <tr>\n",
       "      <th>2</th>\n",
       "      <td>885342191847998240.1640235807.1640235807</td>\n",
       "      <td>2021-12-23</td>\n",
       "      <td>796252.0</td>\n",
       "      <td>49</td>\n",
       "      <td>event</td>\n",
       "      <td>NaN</td>\n",
       "      <td>sberauto.com/cars/all/volkswagen/polo/e994838f...</td>\n",
       "      <td>quiz</td>\n",
       "      <td>quiz_show</td>\n",
       "      <td>NaN</td>\n",
       "      <td>NaN</td>\n",
       "    </tr>\n",
       "    <tr>\n",
       "      <th>3</th>\n",
       "      <td>142526202120934167.1640211014.1640211014</td>\n",
       "      <td>2021-12-23</td>\n",
       "      <td>934292.0</td>\n",
       "      <td>46</td>\n",
       "      <td>event</td>\n",
       "      <td>NaN</td>\n",
       "      <td>sberauto.com/cars?utm_source_initial=yandex&amp;ut...</td>\n",
       "      <td>quiz</td>\n",
       "      <td>quiz_show</td>\n",
       "      <td>NaN</td>\n",
       "      <td>NaN</td>\n",
       "    </tr>\n",
       "    <tr>\n",
       "      <th>4</th>\n",
       "      <td>3450086108837475701.1640265078.1640265078</td>\n",
       "      <td>2021-12-23</td>\n",
       "      <td>768741.0</td>\n",
       "      <td>79</td>\n",
       "      <td>event</td>\n",
       "      <td>NaN</td>\n",
       "      <td>sberauto.com/cars/all/mercedes-benz/cla-klasse...</td>\n",
       "      <td>quiz</td>\n",
       "      <td>quiz_show</td>\n",
       "      <td>NaN</td>\n",
       "      <td>NaN</td>\n",
       "    </tr>\n",
       "    <tr>\n",
       "      <th>...</th>\n",
       "      <td>...</td>\n",
       "      <td>...</td>\n",
       "      <td>...</td>\n",
       "      <td>...</td>\n",
       "      <td>...</td>\n",
       "      <td>...</td>\n",
       "      <td>...</td>\n",
       "      <td>...</td>\n",
       "      <td>...</td>\n",
       "      <td>...</td>\n",
       "      <td>...</td>\n",
       "    </tr>\n",
       "    <tr>\n",
       "      <th>15726465</th>\n",
       "      <td>6866159858916559617.1640270865.1640270865</td>\n",
       "      <td>2021-12-23</td>\n",
       "      <td>810589.0</td>\n",
       "      <td>43</td>\n",
       "      <td>event</td>\n",
       "      <td>NaN</td>\n",
       "      <td>sberauto.com/cars/all/toyota/fortuner/24cb5af2...</td>\n",
       "      <td>quiz</td>\n",
       "      <td>quiz_show</td>\n",
       "      <td>NaN</td>\n",
       "      <td>NaN</td>\n",
       "    </tr>\n",
       "    <tr>\n",
       "      <th>15726466</th>\n",
       "      <td>7310304587364460692.1640261783.1640261783</td>\n",
       "      <td>2021-12-23</td>\n",
       "      <td>904927.0</td>\n",
       "      <td>40</td>\n",
       "      <td>event</td>\n",
       "      <td>NaN</td>\n",
       "      <td>sberauto.com/cars/all/mercedes-benz/gla-klasse...</td>\n",
       "      <td>quiz</td>\n",
       "      <td>quiz_show</td>\n",
       "      <td>NaN</td>\n",
       "      <td>NaN</td>\n",
       "    </tr>\n",
       "    <tr>\n",
       "      <th>15726467</th>\n",
       "      <td>8013702685784312179.1640270195.1640270195</td>\n",
       "      <td>2021-12-23</td>\n",
       "      <td>2172865.0</td>\n",
       "      <td>43</td>\n",
       "      <td>event</td>\n",
       "      <td>NaN</td>\n",
       "      <td>sberauto.com/cars/all/toyota/alphard/2ebe4871?...</td>\n",
       "      <td>quiz</td>\n",
       "      <td>quiz_show</td>\n",
       "      <td>NaN</td>\n",
       "      <td>NaN</td>\n",
       "    </tr>\n",
       "    <tr>\n",
       "      <th>15726468</th>\n",
       "      <td>8021505554734405918.1640257821.1640257821</td>\n",
       "      <td>2021-12-23</td>\n",
       "      <td>713325.0</td>\n",
       "      <td>45</td>\n",
       "      <td>event</td>\n",
       "      <td>NaN</td>\n",
       "      <td>sberauto.com/cars/all/bmw/x3/6a660f0a?rental_p...</td>\n",
       "      <td>quiz</td>\n",
       "      <td>quiz_show</td>\n",
       "      <td>NaN</td>\n",
       "      <td>NaN</td>\n",
       "    </tr>\n",
       "    <tr>\n",
       "      <th>15726469</th>\n",
       "      <td>1569014437485249865.1640269129.1640269129</td>\n",
       "      <td>2021-12-23</td>\n",
       "      <td>742820.0</td>\n",
       "      <td>46</td>\n",
       "      <td>event</td>\n",
       "      <td>NaN</td>\n",
       "      <td>sberauto.com/cars/all/bmw/7-serii/399ac530?utm...</td>\n",
       "      <td>quiz</td>\n",
       "      <td>quiz_show</td>\n",
       "      <td>NaN</td>\n",
       "      <td>NaN</td>\n",
       "    </tr>\n",
       "  </tbody>\n",
       "</table>\n",
       "<p>15726470 rows × 11 columns</p>\n",
       "</div>"
      ],
      "text/plain": [
       "                                         session_id    hit_date   hit_time  \\\n",
       "0         5639623078712724064.1640254056.1640254056  2021-12-23   597864.0   \n",
       "1         7750352294969115059.1640271109.1640271109  2021-12-23   597331.0   \n",
       "2          885342191847998240.1640235807.1640235807  2021-12-23   796252.0   \n",
       "3          142526202120934167.1640211014.1640211014  2021-12-23   934292.0   \n",
       "4         3450086108837475701.1640265078.1640265078  2021-12-23   768741.0   \n",
       "...                                             ...         ...        ...   \n",
       "15726465  6866159858916559617.1640270865.1640270865  2021-12-23   810589.0   \n",
       "15726466  7310304587364460692.1640261783.1640261783  2021-12-23   904927.0   \n",
       "15726467  8013702685784312179.1640270195.1640270195  2021-12-23  2172865.0   \n",
       "15726468  8021505554734405918.1640257821.1640257821  2021-12-23   713325.0   \n",
       "15726469  1569014437485249865.1640269129.1640269129  2021-12-23   742820.0   \n",
       "\n",
       "          hit_number hit_type hit_referer  \\\n",
       "0                 30    event         NaN   \n",
       "1                 41    event         NaN   \n",
       "2                 49    event         NaN   \n",
       "3                 46    event         NaN   \n",
       "4                 79    event         NaN   \n",
       "...              ...      ...         ...   \n",
       "15726465          43    event         NaN   \n",
       "15726466          40    event         NaN   \n",
       "15726467          43    event         NaN   \n",
       "15726468          45    event         NaN   \n",
       "15726469          46    event         NaN   \n",
       "\n",
       "                                              hit_page_path event_category  \\\n",
       "0         sberauto.com/cars?utm_source_initial=google&ut...           quiz   \n",
       "1         sberauto.com/cars/fiat?city=1&city=18&rental_c...           quiz   \n",
       "2         sberauto.com/cars/all/volkswagen/polo/e994838f...           quiz   \n",
       "3         sberauto.com/cars?utm_source_initial=yandex&ut...           quiz   \n",
       "4         sberauto.com/cars/all/mercedes-benz/cla-klasse...           quiz   \n",
       "...                                                     ...            ...   \n",
       "15726465  sberauto.com/cars/all/toyota/fortuner/24cb5af2...           quiz   \n",
       "15726466  sberauto.com/cars/all/mercedes-benz/gla-klasse...           quiz   \n",
       "15726467  sberauto.com/cars/all/toyota/alphard/2ebe4871?...           quiz   \n",
       "15726468  sberauto.com/cars/all/bmw/x3/6a660f0a?rental_p...           quiz   \n",
       "15726469  sberauto.com/cars/all/bmw/7-serii/399ac530?utm...           quiz   \n",
       "\n",
       "         event_action event_label  event_value  \n",
       "0           quiz_show         NaN          NaN  \n",
       "1           quiz_show         NaN          NaN  \n",
       "2           quiz_show         NaN          NaN  \n",
       "3           quiz_show         NaN          NaN  \n",
       "4           quiz_show         NaN          NaN  \n",
       "...               ...         ...          ...  \n",
       "15726465    quiz_show         NaN          NaN  \n",
       "15726466    quiz_show         NaN          NaN  \n",
       "15726467    quiz_show         NaN          NaN  \n",
       "15726468    quiz_show         NaN          NaN  \n",
       "15726469    quiz_show         NaN          NaN  \n",
       "\n",
       "[15726470 rows x 11 columns]"
      ]
     },
     "execution_count": 32,
     "metadata": {},
     "output_type": "execute_result"
    }
   ],
   "source": [
    "df_hits = pd.read_csv('ga_hits-002.csv')\n",
    "df_hits"
   ]
  },
  {
   "cell_type": "markdown",
   "id": "72ac8c5b",
   "metadata": {},
   "source": [
    "## Информация о датасете событий"
   ]
  },
  {
   "cell_type": "code",
   "execution_count": 33,
   "id": "94f4d8d2",
   "metadata": {
    "scrolled": true
   },
   "outputs": [
    {
     "name": "stdout",
     "output_type": "stream",
     "text": [
      "<class 'pandas.core.frame.DataFrame'>\n",
      "RangeIndex: 15726470 entries, 0 to 15726469\n",
      "Data columns (total 11 columns):\n",
      " #   Column          Dtype  \n",
      "---  ------          -----  \n",
      " 0   session_id      object \n",
      " 1   hit_date        object \n",
      " 2   hit_time        float64\n",
      " 3   hit_number      int64  \n",
      " 4   hit_type        object \n",
      " 5   hit_referer     object \n",
      " 6   hit_page_path   object \n",
      " 7   event_category  object \n",
      " 8   event_action    object \n",
      " 9   event_label     object \n",
      " 10  event_value     float64\n",
      "dtypes: float64(2), int64(1), object(8)\n",
      "memory usage: 1.3+ GB\n"
     ]
    }
   ],
   "source": [
    "df_hits.info()"
   ]
  },
  {
   "cell_type": "code",
   "execution_count": 34,
   "id": "1106b42f",
   "metadata": {},
   "outputs": [
    {
     "name": "stdout",
     "output_type": "stream",
     "text": [
      "Количество полностью заполненных объектов:  0\n",
      "Процент полностью заполненных объектов:  0.0\n",
      "Список признаков с пропущенными значениями:  ['event_value', 'hit_time', 'hit_referer', 'event_label']\n"
     ]
    }
   ],
   "source": [
    "print_useful_rows_info(df_hits)"
   ]
  },
  {
   "cell_type": "markdown",
   "id": "062042b5",
   "metadata": {},
   "source": [
    "## Матрица пропусков"
   ]
  },
  {
   "cell_type": "code",
   "execution_count": 35,
   "id": "fdc7fd15",
   "metadata": {},
   "outputs": [
    {
     "data": {
      "image/png": "[encoded data removed]",
      "text/plain": [
       "<Figure size 2500x1000 with 2 Axes>"
      ]
     },
     "metadata": {},
     "output_type": "display_data"
    }
   ],
   "source": [
    "msno.matrix(df_hits);"
   ]
  },
  {
   "cell_type": "markdown",
   "id": "5719988e",
   "metadata": {},
   "source": [
    "### Просмотр значений признаков и их количества"
   ]
  },
  {
   "cell_type": "markdown",
   "id": "c0fede04",
   "metadata": {},
   "source": [
    "Просмотр времени событий:"
   ]
  },
  {
   "cell_type": "code",
   "execution_count": 36,
   "id": "a25183ba",
   "metadata": {},
   "outputs": [
    {
     "data": {
      "text/plain": [
       "NaN          9160322\n",
       "0.0            41137\n",
       "1.0            18522\n",
       "2.0            10101\n",
       "3.0             6060\n",
       "              ...   \n",
       "544067.0           1\n",
       "698726.0           1\n",
       "609006.0           1\n",
       "1200872.0          1\n",
       "742820.0           1\n",
       "Name: hit_time, Length: 925888, dtype: int64"
      ]
     },
     "execution_count": 36,
     "metadata": {},
     "output_type": "execute_result"
    }
   ],
   "source": [
    "df_hits.hit_time.value_counts(dropna=False)"
   ]
  },
  {
   "cell_type": "markdown",
   "id": "c50300c2",
   "metadata": {},
   "source": [
    "Просмотр типов события"
   ]
  },
  {
   "cell_type": "code",
   "execution_count": 37,
   "id": "6b44de2e",
   "metadata": {},
   "outputs": [
    {
     "data": {
      "text/plain": [
       "event    15726470\n",
       "Name: hit_type, dtype: int64"
      ]
     },
     "execution_count": 37,
     "metadata": {},
     "output_type": "execute_result"
    }
   ],
   "source": [
    "df_hits.hit_type.value_counts(dropna=False)"
   ]
  },
  {
   "cell_type": "markdown",
   "id": "baca80e6",
   "metadata": {},
   "source": [
    "Просмотр источников событий:"
   ]
  },
  {
   "cell_type": "code",
   "execution_count": 38,
   "id": "38f28e19",
   "metadata": {},
   "outputs": [
    {
     "data": {
      "text/plain": [
       "HbolMJUevblAbkHClEQa    8879187\n",
       "NaN                     6274804\n",
       "FwdMTcXzWAwhtsnMAbhS      91940\n",
       "sAGDBCdeVPmQPwkVEcIX      53565\n",
       "GQmOLxANuSeCxCanBpMl      35470\n",
       "                         ...   \n",
       "VaOgrsicGpgIbzLNSDbc          1\n",
       "rSeuBRLEcgyWsXrSYQqh          1\n",
       "UNckxKWlzUxsKgvMBNdE          1\n",
       "YZNVwxZKSbzYIwrGrgdY          1\n",
       "tvGabHlPFDvTmIFiCKTL          1\n",
       "Name: hit_referer, Length: 37874, dtype: int64"
      ]
     },
     "execution_count": 38,
     "metadata": {},
     "output_type": "execute_result"
    }
   ],
   "source": [
    "df_hits.hit_referer.value_counts(dropna=False)"
   ]
  },
  {
   "cell_type": "markdown",
   "id": "34e57ad8",
   "metadata": {},
   "source": [
    "Просмотр типов действия"
   ]
  },
  {
   "cell_type": "code",
   "execution_count": 39,
   "id": "b3026cad",
   "metadata": {},
   "outputs": [
    {
     "data": {
      "text/plain": [
       "card_web                         7456998\n",
       "search_form                      2423605\n",
       "sub_page_view                    1986074\n",
       "sub_button_click                 1073471\n",
       "listing_ads                      1040468\n",
       "cars                              358915\n",
       "sap_search_form                   356596\n",
       "quiz                              263134\n",
       "auth                              189373\n",
       "sap_search__form                  188129\n",
       "jivosite                           88443\n",
       "chat                               85007\n",
       "ad_banner                          40441\n",
       "offers                             31218\n",
       "navigation                         27075\n",
       "footer                             20297\n",
       "sub_submit                         18495\n",
       "greenday_sub_button_click          15425\n",
       "main_banners                       14142\n",
       "profile_menu                       13879\n",
       "scrolling_main_page                12160\n",
       "active_invitation                   8478\n",
       "header                              3531\n",
       "my_idea                             2319\n",
       "greenday_listing_ads                1792\n",
       "main_services                       1464\n",
       "phone                               1212\n",
       "category_tile                        924\n",
       "greenday_gtm.triggergroup            766\n",
       "add_ad                               749\n",
       "greenday_sub_submit                  732\n",
       "credit_landing_pos                   274\n",
       "add_ad_additional_information        122\n",
       "main_advantages                      100\n",
       "add_ad_vin                            88\n",
       "pos_landing                           67\n",
       "add_ad_publish_success                65\n",
       "add_ad_options                        62\n",
       "add_ad_city                           59\n",
       "add_ad_photo                          55\n",
       "add_ad_price                          53\n",
       "add_ad_preview                        49\n",
       "add_ad_description                    48\n",
       "add_ad_documents                      46\n",
       "credit_buttons                        27\n",
       "wallet                                15\n",
       "tesla                                 10\n",
       "greenday_sub_page_view                 7\n",
       "add_ad_form                            4\n",
       "greenday_card_web                      4\n",
       "app_banner                             2\n",
       "titul_form                             1\n",
       "Name: event_category, dtype: int64"
      ]
     },
     "execution_count": 39,
     "metadata": {},
     "output_type": "execute_result"
    }
   ],
   "source": [
    "df_hits.event_category.value_counts(dropna=False)"
   ]
  },
  {
   "cell_type": "markdown",
   "id": "1a341b47",
   "metadata": {},
   "source": [
    "Просмотр действий"
   ]
  },
  {
   "cell_type": "code",
   "execution_count": 40,
   "id": "f0140aa7",
   "metadata": {},
   "outputs": [
    {
     "data": {
      "text/plain": [
       "view_card                     3558985\n",
       "view_new_card                 3551009\n",
       "sub_landing                   1798117\n",
       "go_to_car_card                 973666\n",
       "sub_view_cars_click            791515\n",
       "                               ...   \n",
       "click_on_android                    1\n",
       "new_year_road_help_btn              1\n",
       "titul_page_view                     1\n",
       "show_pos_status_declined            1\n",
       "survey_buy_after_sell_when          1\n",
       "Name: event_action, Length: 230, dtype: int64"
      ]
     },
     "execution_count": 40,
     "metadata": {},
     "output_type": "execute_result"
    }
   ],
   "source": [
    "df_hits.event_action.value_counts(dropna=False)"
   ]
  },
  {
   "cell_type": "markdown",
   "id": "4c63d94a",
   "metadata": {},
   "source": [
    "Просмотр тегов действия"
   ]
  },
  {
   "cell_type": "code",
   "execution_count": 41,
   "id": "eff3221a",
   "metadata": {},
   "outputs": [
    {
     "data": {
      "text/plain": [
       "KclpemfoHstknWHFiLit    6505447\n",
       "NaN                     3760184\n",
       "hAHqGICPFQiPwtzubOzs    1284914\n",
       "OHfyUfDKdPgBdvelDlfG     626554\n",
       "pzAKUYdRKNEUXxxBFUPX     358915\n",
       "                         ...   \n",
       "iFTveknOEiHmdgIHHqBZ          1\n",
       "WKfoFxrMANSjHQMIhCZr          1\n",
       "RAJXTkPWctNbMZubUIng          1\n",
       "jRptuMMybqHerOxplPYo          1\n",
       "aNlmojNIfsJaXKZHCDiU          1\n",
       "Name: event_label, Length: 39826, dtype: int64"
      ]
     },
     "execution_count": 41,
     "metadata": {},
     "output_type": "execute_result"
    }
   ],
   "source": [
    "df_hits.event_label.value_counts(dropna=False)"
   ]
  },
  {
   "cell_type": "markdown",
   "id": "d5d9e8e9",
   "metadata": {},
   "source": [
    "## Data Cleaning (датасет событий (df_h))"
   ]
  },
  {
   "cell_type": "code",
   "execution_count": 42,
   "id": "9b437f66",
   "metadata": {},
   "outputs": [],
   "source": [
    "df_h = df_hits.copy()"
   ]
  },
  {
   "cell_type": "markdown",
   "id": "b6caf820",
   "metadata": {},
   "source": [
    "Очистка датасета от избыточной информации"
   ]
  },
  {
   "cell_type": "code",
   "execution_count": 43,
   "id": "9641f52a",
   "metadata": {},
   "outputs": [
    {
     "data": {
      "text/html": [
       "<div>\n",
       "<style scoped>\n",
       "    .dataframe tbody tr th:only-of-type {\n",
       "        vertical-align: middle;\n",
       "    }\n",
       "\n",
       "    .dataframe tbody tr th {\n",
       "        vertical-align: top;\n",
       "    }\n",
       "\n",
       "    .dataframe thead th {\n",
       "        text-align: right;\n",
       "    }\n",
       "</style>\n",
       "<table border=\"1\" class=\"dataframe\">\n",
       "  <thead>\n",
       "    <tr style=\"text-align: right;\">\n",
       "      <th></th>\n",
       "      <th>session_id</th>\n",
       "      <th>hit_page_path</th>\n",
       "      <th>event_action</th>\n",
       "    </tr>\n",
       "  </thead>\n",
       "  <tbody>\n",
       "    <tr>\n",
       "      <th>0</th>\n",
       "      <td>5639623078712724064.1640254056.1640254056</td>\n",
       "      <td>sberauto.com/cars?utm_source_initial=google&amp;ut...</td>\n",
       "      <td>quiz_show</td>\n",
       "    </tr>\n",
       "    <tr>\n",
       "      <th>1</th>\n",
       "      <td>7750352294969115059.1640271109.1640271109</td>\n",
       "      <td>sberauto.com/cars/fiat?city=1&amp;city=18&amp;rental_c...</td>\n",
       "      <td>quiz_show</td>\n",
       "    </tr>\n",
       "    <tr>\n",
       "      <th>2</th>\n",
       "      <td>885342191847998240.1640235807.1640235807</td>\n",
       "      <td>sberauto.com/cars/all/volkswagen/polo/e994838f...</td>\n",
       "      <td>quiz_show</td>\n",
       "    </tr>\n",
       "    <tr>\n",
       "      <th>3</th>\n",
       "      <td>142526202120934167.1640211014.1640211014</td>\n",
       "      <td>sberauto.com/cars?utm_source_initial=yandex&amp;ut...</td>\n",
       "      <td>quiz_show</td>\n",
       "    </tr>\n",
       "    <tr>\n",
       "      <th>4</th>\n",
       "      <td>3450086108837475701.1640265078.1640265078</td>\n",
       "      <td>sberauto.com/cars/all/mercedes-benz/cla-klasse...</td>\n",
       "      <td>quiz_show</td>\n",
       "    </tr>\n",
       "    <tr>\n",
       "      <th>...</th>\n",
       "      <td>...</td>\n",
       "      <td>...</td>\n",
       "      <td>...</td>\n",
       "    </tr>\n",
       "    <tr>\n",
       "      <th>15726465</th>\n",
       "      <td>6866159858916559617.1640270865.1640270865</td>\n",
       "      <td>sberauto.com/cars/all/toyota/fortuner/24cb5af2...</td>\n",
       "      <td>quiz_show</td>\n",
       "    </tr>\n",
       "    <tr>\n",
       "      <th>15726466</th>\n",
       "      <td>7310304587364460692.1640261783.1640261783</td>\n",
       "      <td>sberauto.com/cars/all/mercedes-benz/gla-klasse...</td>\n",
       "      <td>quiz_show</td>\n",
       "    </tr>\n",
       "    <tr>\n",
       "      <th>15726467</th>\n",
       "      <td>8013702685784312179.1640270195.1640270195</td>\n",
       "      <td>sberauto.com/cars/all/toyota/alphard/2ebe4871?...</td>\n",
       "      <td>quiz_show</td>\n",
       "    </tr>\n",
       "    <tr>\n",
       "      <th>15726468</th>\n",
       "      <td>8021505554734405918.1640257821.1640257821</td>\n",
       "      <td>sberauto.com/cars/all/bmw/x3/6a660f0a?rental_p...</td>\n",
       "      <td>quiz_show</td>\n",
       "    </tr>\n",
       "    <tr>\n",
       "      <th>15726469</th>\n",
       "      <td>1569014437485249865.1640269129.1640269129</td>\n",
       "      <td>sberauto.com/cars/all/bmw/7-serii/399ac530?utm...</td>\n",
       "      <td>quiz_show</td>\n",
       "    </tr>\n",
       "  </tbody>\n",
       "</table>\n",
       "<p>15726470 rows × 3 columns</p>\n",
       "</div>"
      ],
      "text/plain": [
       "                                         session_id  \\\n",
       "0         5639623078712724064.1640254056.1640254056   \n",
       "1         7750352294969115059.1640271109.1640271109   \n",
       "2          885342191847998240.1640235807.1640235807   \n",
       "3          142526202120934167.1640211014.1640211014   \n",
       "4         3450086108837475701.1640265078.1640265078   \n",
       "...                                             ...   \n",
       "15726465  6866159858916559617.1640270865.1640270865   \n",
       "15726466  7310304587364460692.1640261783.1640261783   \n",
       "15726467  8013702685784312179.1640270195.1640270195   \n",
       "15726468  8021505554734405918.1640257821.1640257821   \n",
       "15726469  1569014437485249865.1640269129.1640269129   \n",
       "\n",
       "                                              hit_page_path event_action  \n",
       "0         sberauto.com/cars?utm_source_initial=google&ut...    quiz_show  \n",
       "1         sberauto.com/cars/fiat?city=1&city=18&rental_c...    quiz_show  \n",
       "2         sberauto.com/cars/all/volkswagen/polo/e994838f...    quiz_show  \n",
       "3         sberauto.com/cars?utm_source_initial=yandex&ut...    quiz_show  \n",
       "4         sberauto.com/cars/all/mercedes-benz/cla-klasse...    quiz_show  \n",
       "...                                                     ...          ...  \n",
       "15726465  sberauto.com/cars/all/toyota/fortuner/24cb5af2...    quiz_show  \n",
       "15726466  sberauto.com/cars/all/mercedes-benz/gla-klasse...    quiz_show  \n",
       "15726467  sberauto.com/cars/all/toyota/alphard/2ebe4871?...    quiz_show  \n",
       "15726468  sberauto.com/cars/all/bmw/x3/6a660f0a?rental_p...    quiz_show  \n",
       "15726469  sberauto.com/cars/all/bmw/7-serii/399ac530?utm...    quiz_show  \n",
       "\n",
       "[15726470 rows x 3 columns]"
      ]
     },
     "execution_count": 43,
     "metadata": {},
     "output_type": "execute_result"
    }
   ],
   "source": [
    "df_h = df_h.drop(columns=['hit_date','hit_time','hit_number', 'hit_type', 'hit_referer','event_label', 'event_value', 'event_category'], axis=1)\n",
    "df_h"
   ]
  },
  {
   "cell_type": "markdown",
   "id": "23d5eba6",
   "metadata": {},
   "source": [
    "Матрица пропусков в значениях:"
   ]
  },
  {
   "cell_type": "code",
   "execution_count": 44,
   "id": "17679675",
   "metadata": {},
   "outputs": [
    {
     "data": {
      "image/png": "[encoded data removed]",
      "text/plain": [
       "<Figure size 2500x1000 with 2 Axes>"
      ]
     },
     "metadata": {},
     "output_type": "display_data"
    }
   ],
   "source": [
    "msno.matrix(df_h);"
   ]
  },
  {
   "cell_type": "code",
   "execution_count": 45,
   "id": "91666923",
   "metadata": {},
   "outputs": [
    {
     "name": "stdout",
     "output_type": "stream",
     "text": [
      "Количество полностью заполненных объектов:  15726470\n",
      "Процент полностью заполненных объектов:  100.0\n",
      "Список признаков с пропущенными значениями:  []\n"
     ]
    }
   ],
   "source": [
    "print_useful_rows_info(df_h)"
   ]
  },
  {
   "cell_type": "markdown",
   "id": "9d64029c",
   "metadata": {},
   "source": [
    "Создание признака 'target_action', в котором будет отражаться совершил ли пользователь целевое действие: \\\n",
    "1 - совершил, 0 - не совершил"
   ]
  },
  {
   "cell_type": "code",
   "execution_count": 46,
   "id": "ce158ff7",
   "metadata": {},
   "outputs": [],
   "source": [
    "df_h['target_action'] = df_h['event_action'].apply(lambda x: 1 if x in [\n",
    "                                                                        'sub_car_claim_click', \n",
    "                                                                        'sub_car_claim_submit_click',\n",
    "                                                                        'sub_open_dialog_click',\n",
    "                                                                        'sub_custom_question_submit_click',\n",
    "                                                                        'sub_call_number_click', \n",
    "                                                                        'sub_callback_submit_click', \n",
    "                                                                        'sub_submit_success',\n",
    "                                                                        'sub_car_request_submit_click'\n",
    "                                                                        ]\n",
    "                                                               else 0\n",
    ")"
   ]
  },
  {
   "cell_type": "code",
   "execution_count": 47,
   "id": "6d00d6b8",
   "metadata": {},
   "outputs": [
    {
     "data": {
      "text/plain": [
       "0    15621562\n",
       "1      104908\n",
       "Name: target_action, dtype: int64"
      ]
     },
     "execution_count": 47,
     "metadata": {},
     "output_type": "execute_result"
    }
   ],
   "source": [
    "df_h.target_action.value_counts()"
   ]
  },
  {
   "cell_type": "markdown",
   "id": "cc64f5ec",
   "metadata": {},
   "source": [
    "Поиск дубликатов:"
   ]
  },
  {
   "cell_type": "code",
   "execution_count": 48,
   "id": "177635b4",
   "metadata": {},
   "outputs": [
    {
     "data": {
      "text/html": [
       "<div>\n",
       "<style scoped>\n",
       "    .dataframe tbody tr th:only-of-type {\n",
       "        vertical-align: middle;\n",
       "    }\n",
       "\n",
       "    .dataframe tbody tr th {\n",
       "        vertical-align: top;\n",
       "    }\n",
       "\n",
       "    .dataframe thead th {\n",
       "        text-align: right;\n",
       "    }\n",
       "</style>\n",
       "<table border=\"1\" class=\"dataframe\">\n",
       "  <thead>\n",
       "    <tr style=\"text-align: right;\">\n",
       "      <th></th>\n",
       "      <th>session_id</th>\n",
       "      <th>hit_page_path</th>\n",
       "      <th>event_action</th>\n",
       "      <th>target_action</th>\n",
       "    </tr>\n",
       "  </thead>\n",
       "  <tbody>\n",
       "    <tr>\n",
       "      <th>23</th>\n",
       "      <td>3117547552978670057.1640217454.1640217454</td>\n",
       "      <td>sberauto.com/cars/all/skoda/rapid/bf24b977?ren...</td>\n",
       "      <td>view_card</td>\n",
       "      <td>0</td>\n",
       "    </tr>\n",
       "    <tr>\n",
       "      <th>32</th>\n",
       "      <td>3282323002617677961.1640266499.1640266499</td>\n",
       "      <td>sberauto.com/cars/all/lada-vaz/vesta/2fc745ed?...</td>\n",
       "      <td>view_card</td>\n",
       "      <td>0</td>\n",
       "    </tr>\n",
       "    <tr>\n",
       "      <th>39</th>\n",
       "      <td>562366956183957396.1640246520.1640246520</td>\n",
       "      <td>sberauto.com/cars/all/mini/hatch/b82590a3?rent...</td>\n",
       "      <td>view_card</td>\n",
       "      <td>0</td>\n",
       "    </tr>\n",
       "    <tr>\n",
       "      <th>42</th>\n",
       "      <td>628849304731384746.1640233987.1640233987</td>\n",
       "      <td>sberauto.com/cars/all/skoda/rapid/bf24b977?ren...</td>\n",
       "      <td>view_card</td>\n",
       "      <td>0</td>\n",
       "    </tr>\n",
       "    <tr>\n",
       "      <th>61</th>\n",
       "      <td>2530706414478031710.1640233887.1640233887</td>\n",
       "      <td>sberauto.com/cars/all/nissan/qashqai/bfc21661?...</td>\n",
       "      <td>view_card</td>\n",
       "      <td>0</td>\n",
       "    </tr>\n",
       "    <tr>\n",
       "      <th>...</th>\n",
       "      <td>...</td>\n",
       "      <td>...</td>\n",
       "      <td>...</td>\n",
       "      <td>...</td>\n",
       "    </tr>\n",
       "    <tr>\n",
       "      <th>15726416</th>\n",
       "      <td>2445898965208837590.1640279515.1640279515</td>\n",
       "      <td>sberauto.com/cars/all/kia/sorento/c38179cb?utm...</td>\n",
       "      <td>photos</td>\n",
       "      <td>0</td>\n",
       "    </tr>\n",
       "    <tr>\n",
       "      <th>15726420</th>\n",
       "      <td>1279681186746345207.1640244983.1640244983</td>\n",
       "      <td>sberauto.com/cars/all/skoda/rapid/bf24b977?utm...</td>\n",
       "      <td>photos</td>\n",
       "      <td>0</td>\n",
       "    </tr>\n",
       "    <tr>\n",
       "      <th>15726421</th>\n",
       "      <td>1279681186746345207.1640244983.1640244983</td>\n",
       "      <td>sberauto.com/cars/all/renault/logan/8c3c73f2?u...</td>\n",
       "      <td>photos</td>\n",
       "      <td>0</td>\n",
       "    </tr>\n",
       "    <tr>\n",
       "      <th>15726429</th>\n",
       "      <td>2233243198661178069.1640255986.1640255986</td>\n",
       "      <td>sberauto.com/cars?utm_source_initial=outlook&amp;u...</td>\n",
       "      <td>quiz_show</td>\n",
       "      <td>0</td>\n",
       "    </tr>\n",
       "    <tr>\n",
       "      <th>15726445</th>\n",
       "      <td>2790400052957544312.1640234872.1640234872</td>\n",
       "      <td>sberauto.com/cars/all/renault/logan/8c3c73f2?r...</td>\n",
       "      <td>view_card</td>\n",
       "      <td>0</td>\n",
       "    </tr>\n",
       "  </tbody>\n",
       "</table>\n",
       "<p>8196294 rows × 4 columns</p>\n",
       "</div>"
      ],
      "text/plain": [
       "                                         session_id  \\\n",
       "23        3117547552978670057.1640217454.1640217454   \n",
       "32        3282323002617677961.1640266499.1640266499   \n",
       "39         562366956183957396.1640246520.1640246520   \n",
       "42         628849304731384746.1640233987.1640233987   \n",
       "61        2530706414478031710.1640233887.1640233887   \n",
       "...                                             ...   \n",
       "15726416  2445898965208837590.1640279515.1640279515   \n",
       "15726420  1279681186746345207.1640244983.1640244983   \n",
       "15726421  1279681186746345207.1640244983.1640244983   \n",
       "15726429  2233243198661178069.1640255986.1640255986   \n",
       "15726445  2790400052957544312.1640234872.1640234872   \n",
       "\n",
       "                                              hit_page_path event_action  \\\n",
       "23        sberauto.com/cars/all/skoda/rapid/bf24b977?ren...    view_card   \n",
       "32        sberauto.com/cars/all/lada-vaz/vesta/2fc745ed?...    view_card   \n",
       "39        sberauto.com/cars/all/mini/hatch/b82590a3?rent...    view_card   \n",
       "42        sberauto.com/cars/all/skoda/rapid/bf24b977?ren...    view_card   \n",
       "61        sberauto.com/cars/all/nissan/qashqai/bfc21661?...    view_card   \n",
       "...                                                     ...          ...   \n",
       "15726416  sberauto.com/cars/all/kia/sorento/c38179cb?utm...       photos   \n",
       "15726420  sberauto.com/cars/all/skoda/rapid/bf24b977?utm...       photos   \n",
       "15726421  sberauto.com/cars/all/renault/logan/8c3c73f2?u...       photos   \n",
       "15726429  sberauto.com/cars?utm_source_initial=outlook&u...    quiz_show   \n",
       "15726445  sberauto.com/cars/all/renault/logan/8c3c73f2?r...    view_card   \n",
       "\n",
       "          target_action  \n",
       "23                    0  \n",
       "32                    0  \n",
       "39                    0  \n",
       "42                    0  \n",
       "61                    0  \n",
       "...                 ...  \n",
       "15726416              0  \n",
       "15726420              0  \n",
       "15726421              0  \n",
       "15726429              0  \n",
       "15726445              0  \n",
       "\n",
       "[8196294 rows x 4 columns]"
      ]
     },
     "execution_count": 48,
     "metadata": {},
     "output_type": "execute_result"
    }
   ],
   "source": [
    "df_h[df_h.duplicated()]"
   ]
  },
  {
   "cell_type": "markdown",
   "id": "9dec30d9",
   "metadata": {},
   "source": [
    "Удаление дубликатов из датасета:"
   ]
  },
  {
   "cell_type": "code",
   "execution_count": 49,
   "id": "087af89b",
   "metadata": {},
   "outputs": [
    {
     "data": {
      "text/html": [
       "<div>\n",
       "<style scoped>\n",
       "    .dataframe tbody tr th:only-of-type {\n",
       "        vertical-align: middle;\n",
       "    }\n",
       "\n",
       "    .dataframe tbody tr th {\n",
       "        vertical-align: top;\n",
       "    }\n",
       "\n",
       "    .dataframe thead th {\n",
       "        text-align: right;\n",
       "    }\n",
       "</style>\n",
       "<table border=\"1\" class=\"dataframe\">\n",
       "  <thead>\n",
       "    <tr style=\"text-align: right;\">\n",
       "      <th></th>\n",
       "      <th>session_id</th>\n",
       "      <th>hit_page_path</th>\n",
       "      <th>event_action</th>\n",
       "      <th>target_action</th>\n",
       "    </tr>\n",
       "  </thead>\n",
       "  <tbody>\n",
       "    <tr>\n",
       "      <th>0</th>\n",
       "      <td>5639623078712724064.1640254056.1640254056</td>\n",
       "      <td>sberauto.com/cars?utm_source_initial=google&amp;ut...</td>\n",
       "      <td>quiz_show</td>\n",
       "      <td>0</td>\n",
       "    </tr>\n",
       "    <tr>\n",
       "      <th>1</th>\n",
       "      <td>7750352294969115059.1640271109.1640271109</td>\n",
       "      <td>sberauto.com/cars/fiat?city=1&amp;city=18&amp;rental_c...</td>\n",
       "      <td>quiz_show</td>\n",
       "      <td>0</td>\n",
       "    </tr>\n",
       "    <tr>\n",
       "      <th>2</th>\n",
       "      <td>885342191847998240.1640235807.1640235807</td>\n",
       "      <td>sberauto.com/cars/all/volkswagen/polo/e994838f...</td>\n",
       "      <td>quiz_show</td>\n",
       "      <td>0</td>\n",
       "    </tr>\n",
       "    <tr>\n",
       "      <th>3</th>\n",
       "      <td>142526202120934167.1640211014.1640211014</td>\n",
       "      <td>sberauto.com/cars?utm_source_initial=yandex&amp;ut...</td>\n",
       "      <td>quiz_show</td>\n",
       "      <td>0</td>\n",
       "    </tr>\n",
       "    <tr>\n",
       "      <th>4</th>\n",
       "      <td>3450086108837475701.1640265078.1640265078</td>\n",
       "      <td>sberauto.com/cars/all/mercedes-benz/cla-klasse...</td>\n",
       "      <td>quiz_show</td>\n",
       "      <td>0</td>\n",
       "    </tr>\n",
       "    <tr>\n",
       "      <th>...</th>\n",
       "      <td>...</td>\n",
       "      <td>...</td>\n",
       "      <td>...</td>\n",
       "      <td>...</td>\n",
       "    </tr>\n",
       "    <tr>\n",
       "      <th>15726465</th>\n",
       "      <td>6866159858916559617.1640270865.1640270865</td>\n",
       "      <td>sberauto.com/cars/all/toyota/fortuner/24cb5af2...</td>\n",
       "      <td>quiz_show</td>\n",
       "      <td>0</td>\n",
       "    </tr>\n",
       "    <tr>\n",
       "      <th>15726466</th>\n",
       "      <td>7310304587364460692.1640261783.1640261783</td>\n",
       "      <td>sberauto.com/cars/all/mercedes-benz/gla-klasse...</td>\n",
       "      <td>quiz_show</td>\n",
       "      <td>0</td>\n",
       "    </tr>\n",
       "    <tr>\n",
       "      <th>15726467</th>\n",
       "      <td>8013702685784312179.1640270195.1640270195</td>\n",
       "      <td>sberauto.com/cars/all/toyota/alphard/2ebe4871?...</td>\n",
       "      <td>quiz_show</td>\n",
       "      <td>0</td>\n",
       "    </tr>\n",
       "    <tr>\n",
       "      <th>15726468</th>\n",
       "      <td>8021505554734405918.1640257821.1640257821</td>\n",
       "      <td>sberauto.com/cars/all/bmw/x3/6a660f0a?rental_p...</td>\n",
       "      <td>quiz_show</td>\n",
       "      <td>0</td>\n",
       "    </tr>\n",
       "    <tr>\n",
       "      <th>15726469</th>\n",
       "      <td>1569014437485249865.1640269129.1640269129</td>\n",
       "      <td>sberauto.com/cars/all/bmw/7-serii/399ac530?utm...</td>\n",
       "      <td>quiz_show</td>\n",
       "      <td>0</td>\n",
       "    </tr>\n",
       "  </tbody>\n",
       "</table>\n",
       "<p>7530176 rows × 4 columns</p>\n",
       "</div>"
      ],
      "text/plain": [
       "                                         session_id  \\\n",
       "0         5639623078712724064.1640254056.1640254056   \n",
       "1         7750352294969115059.1640271109.1640271109   \n",
       "2          885342191847998240.1640235807.1640235807   \n",
       "3          142526202120934167.1640211014.1640211014   \n",
       "4         3450086108837475701.1640265078.1640265078   \n",
       "...                                             ...   \n",
       "15726465  6866159858916559617.1640270865.1640270865   \n",
       "15726466  7310304587364460692.1640261783.1640261783   \n",
       "15726467  8013702685784312179.1640270195.1640270195   \n",
       "15726468  8021505554734405918.1640257821.1640257821   \n",
       "15726469  1569014437485249865.1640269129.1640269129   \n",
       "\n",
       "                                              hit_page_path event_action  \\\n",
       "0         sberauto.com/cars?utm_source_initial=google&ut...    quiz_show   \n",
       "1         sberauto.com/cars/fiat?city=1&city=18&rental_c...    quiz_show   \n",
       "2         sberauto.com/cars/all/volkswagen/polo/e994838f...    quiz_show   \n",
       "3         sberauto.com/cars?utm_source_initial=yandex&ut...    quiz_show   \n",
       "4         sberauto.com/cars/all/mercedes-benz/cla-klasse...    quiz_show   \n",
       "...                                                     ...          ...   \n",
       "15726465  sberauto.com/cars/all/toyota/fortuner/24cb5af2...    quiz_show   \n",
       "15726466  sberauto.com/cars/all/mercedes-benz/gla-klasse...    quiz_show   \n",
       "15726467  sberauto.com/cars/all/toyota/alphard/2ebe4871?...    quiz_show   \n",
       "15726468  sberauto.com/cars/all/bmw/x3/6a660f0a?rental_p...    quiz_show   \n",
       "15726469  sberauto.com/cars/all/bmw/7-serii/399ac530?utm...    quiz_show   \n",
       "\n",
       "          target_action  \n",
       "0                     0  \n",
       "1                     0  \n",
       "2                     0  \n",
       "3                     0  \n",
       "4                     0  \n",
       "...                 ...  \n",
       "15726465              0  \n",
       "15726466              0  \n",
       "15726467              0  \n",
       "15726468              0  \n",
       "15726469              0  \n",
       "\n",
       "[7530176 rows x 4 columns]"
      ]
     },
     "execution_count": 49,
     "metadata": {},
     "output_type": "execute_result"
    }
   ],
   "source": [
    "df_h.drop_duplicates()"
   ]
  },
  {
   "cell_type": "markdown",
   "id": "a7b0af86",
   "metadata": {},
   "source": [
    "Очищение датасета от избыточной информации:"
   ]
  },
  {
   "cell_type": "code",
   "execution_count": 50,
   "id": "95733bb2",
   "metadata": {},
   "outputs": [
    {
     "data": {
      "text/html": [
       "<div>\n",
       "<style scoped>\n",
       "    .dataframe tbody tr th:only-of-type {\n",
       "        vertical-align: middle;\n",
       "    }\n",
       "\n",
       "    .dataframe tbody tr th {\n",
       "        vertical-align: top;\n",
       "    }\n",
       "\n",
       "    .dataframe thead th {\n",
       "        text-align: right;\n",
       "    }\n",
       "</style>\n",
       "<table border=\"1\" class=\"dataframe\">\n",
       "  <thead>\n",
       "    <tr style=\"text-align: right;\">\n",
       "      <th></th>\n",
       "      <th>session_id</th>\n",
       "      <th>hit_page_path</th>\n",
       "      <th>target_action</th>\n",
       "    </tr>\n",
       "  </thead>\n",
       "  <tbody>\n",
       "    <tr>\n",
       "      <th>0</th>\n",
       "      <td>5639623078712724064.1640254056.1640254056</td>\n",
       "      <td>sberauto.com/cars?utm_source_initial=google&amp;ut...</td>\n",
       "      <td>0</td>\n",
       "    </tr>\n",
       "    <tr>\n",
       "      <th>1</th>\n",
       "      <td>7750352294969115059.1640271109.1640271109</td>\n",
       "      <td>sberauto.com/cars/fiat?city=1&amp;city=18&amp;rental_c...</td>\n",
       "      <td>0</td>\n",
       "    </tr>\n",
       "    <tr>\n",
       "      <th>2</th>\n",
       "      <td>885342191847998240.1640235807.1640235807</td>\n",
       "      <td>sberauto.com/cars/all/volkswagen/polo/e994838f...</td>\n",
       "      <td>0</td>\n",
       "    </tr>\n",
       "    <tr>\n",
       "      <th>3</th>\n",
       "      <td>142526202120934167.1640211014.1640211014</td>\n",
       "      <td>sberauto.com/cars?utm_source_initial=yandex&amp;ut...</td>\n",
       "      <td>0</td>\n",
       "    </tr>\n",
       "    <tr>\n",
       "      <th>4</th>\n",
       "      <td>3450086108837475701.1640265078.1640265078</td>\n",
       "      <td>sberauto.com/cars/all/mercedes-benz/cla-klasse...</td>\n",
       "      <td>0</td>\n",
       "    </tr>\n",
       "    <tr>\n",
       "      <th>...</th>\n",
       "      <td>...</td>\n",
       "      <td>...</td>\n",
       "      <td>...</td>\n",
       "    </tr>\n",
       "    <tr>\n",
       "      <th>15726465</th>\n",
       "      <td>6866159858916559617.1640270865.1640270865</td>\n",
       "      <td>sberauto.com/cars/all/toyota/fortuner/24cb5af2...</td>\n",
       "      <td>0</td>\n",
       "    </tr>\n",
       "    <tr>\n",
       "      <th>15726466</th>\n",
       "      <td>7310304587364460692.1640261783.1640261783</td>\n",
       "      <td>sberauto.com/cars/all/mercedes-benz/gla-klasse...</td>\n",
       "      <td>0</td>\n",
       "    </tr>\n",
       "    <tr>\n",
       "      <th>15726467</th>\n",
       "      <td>8013702685784312179.1640270195.1640270195</td>\n",
       "      <td>sberauto.com/cars/all/toyota/alphard/2ebe4871?...</td>\n",
       "      <td>0</td>\n",
       "    </tr>\n",
       "    <tr>\n",
       "      <th>15726468</th>\n",
       "      <td>8021505554734405918.1640257821.1640257821</td>\n",
       "      <td>sberauto.com/cars/all/bmw/x3/6a660f0a?rental_p...</td>\n",
       "      <td>0</td>\n",
       "    </tr>\n",
       "    <tr>\n",
       "      <th>15726469</th>\n",
       "      <td>1569014437485249865.1640269129.1640269129</td>\n",
       "      <td>sberauto.com/cars/all/bmw/7-serii/399ac530?utm...</td>\n",
       "      <td>0</td>\n",
       "    </tr>\n",
       "  </tbody>\n",
       "</table>\n",
       "<p>15726470 rows × 3 columns</p>\n",
       "</div>"
      ],
      "text/plain": [
       "                                         session_id  \\\n",
       "0         5639623078712724064.1640254056.1640254056   \n",
       "1         7750352294969115059.1640271109.1640271109   \n",
       "2          885342191847998240.1640235807.1640235807   \n",
       "3          142526202120934167.1640211014.1640211014   \n",
       "4         3450086108837475701.1640265078.1640265078   \n",
       "...                                             ...   \n",
       "15726465  6866159858916559617.1640270865.1640270865   \n",
       "15726466  7310304587364460692.1640261783.1640261783   \n",
       "15726467  8013702685784312179.1640270195.1640270195   \n",
       "15726468  8021505554734405918.1640257821.1640257821   \n",
       "15726469  1569014437485249865.1640269129.1640269129   \n",
       "\n",
       "                                              hit_page_path  target_action  \n",
       "0         sberauto.com/cars?utm_source_initial=google&ut...              0  \n",
       "1         sberauto.com/cars/fiat?city=1&city=18&rental_c...              0  \n",
       "2         sberauto.com/cars/all/volkswagen/polo/e994838f...              0  \n",
       "3         sberauto.com/cars?utm_source_initial=yandex&ut...              0  \n",
       "4         sberauto.com/cars/all/mercedes-benz/cla-klasse...              0  \n",
       "...                                                     ...            ...  \n",
       "15726465  sberauto.com/cars/all/toyota/fortuner/24cb5af2...              0  \n",
       "15726466  sberauto.com/cars/all/mercedes-benz/gla-klasse...              0  \n",
       "15726467  sberauto.com/cars/all/toyota/alphard/2ebe4871?...              0  \n",
       "15726468  sberauto.com/cars/all/bmw/x3/6a660f0a?rental_p...              0  \n",
       "15726469  sberauto.com/cars/all/bmw/7-serii/399ac530?utm...              0  \n",
       "\n",
       "[15726470 rows x 3 columns]"
      ]
     },
     "execution_count": 50,
     "metadata": {},
     "output_type": "execute_result"
    }
   ],
   "source": [
    "df_h = df_h.drop(columns=['event_action'], axis=1)\n",
    "df_h"
   ]
  },
  {
   "cell_type": "markdown",
   "id": "944d9983",
   "metadata": {},
   "source": [
    "Объединение датасетов для дальнейшего анализа"
   ]
  },
  {
   "cell_type": "code",
   "execution_count": 51,
   "id": "95c239f6",
   "metadata": {},
   "outputs": [
    {
     "data": {
      "text/html": [
       "<div>\n",
       "<style scoped>\n",
       "    .dataframe tbody tr th:only-of-type {\n",
       "        vertical-align: middle;\n",
       "    }\n",
       "\n",
       "    .dataframe tbody tr th {\n",
       "        vertical-align: top;\n",
       "    }\n",
       "\n",
       "    .dataframe thead th {\n",
       "        text-align: right;\n",
       "    }\n",
       "</style>\n",
       "<table border=\"1\" class=\"dataframe\">\n",
       "  <thead>\n",
       "    <tr style=\"text-align: right;\">\n",
       "      <th></th>\n",
       "      <th>session_id</th>\n",
       "      <th>visit_number</th>\n",
       "      <th>utm_source</th>\n",
       "      <th>utm_campaign</th>\n",
       "      <th>device_category</th>\n",
       "      <th>geo_city</th>\n",
       "      <th>traffic</th>\n",
       "      <th>target_action</th>\n",
       "    </tr>\n",
       "  </thead>\n",
       "  <tbody>\n",
       "    <tr>\n",
       "      <th>0</th>\n",
       "      <td>9055434745589932991.1637753792.1637753792</td>\n",
       "      <td>1</td>\n",
       "      <td>other_source</td>\n",
       "      <td>LEoPHuyFvzoNfnzGgfcd</td>\n",
       "      <td>mobile</td>\n",
       "      <td>other</td>\n",
       "      <td>paid</td>\n",
       "      <td>0</td>\n",
       "    </tr>\n",
       "    <tr>\n",
       "      <th>1</th>\n",
       "      <td>905544597018549464.1636867290.1636867290</td>\n",
       "      <td>1</td>\n",
       "      <td>social_network</td>\n",
       "      <td>FTjNLDyTrXaWYgZymFkV</td>\n",
       "      <td>mobile</td>\n",
       "      <td>capital</td>\n",
       "      <td>paid</td>\n",
       "      <td>0</td>\n",
       "    </tr>\n",
       "    <tr>\n",
       "      <th>2</th>\n",
       "      <td>9055446045651783499.1640648526.1640648526</td>\n",
       "      <td>1</td>\n",
       "      <td>other_source</td>\n",
       "      <td>LEoPHuyFvzoNfnzGgfcd</td>\n",
       "      <td>mobile</td>\n",
       "      <td>other</td>\n",
       "      <td>paid</td>\n",
       "      <td>0</td>\n",
       "    </tr>\n",
       "    <tr>\n",
       "      <th>3</th>\n",
       "      <td>9055447046360770272.1622255328.1622255328</td>\n",
       "      <td>1</td>\n",
       "      <td>other_source</td>\n",
       "      <td>other</td>\n",
       "      <td>mobile</td>\n",
       "      <td>capital</td>\n",
       "      <td>paid</td>\n",
       "      <td>0</td>\n",
       "    </tr>\n",
       "    <tr>\n",
       "      <th>4</th>\n",
       "      <td>9055447046360770272.1622255345.1622255345</td>\n",
       "      <td>2</td>\n",
       "      <td>other_source</td>\n",
       "      <td>other</td>\n",
       "      <td>mobile</td>\n",
       "      <td>capital</td>\n",
       "      <td>paid</td>\n",
       "      <td>0</td>\n",
       "    </tr>\n",
       "    <tr>\n",
       "      <th>...</th>\n",
       "      <td>...</td>\n",
       "      <td>...</td>\n",
       "      <td>...</td>\n",
       "      <td>...</td>\n",
       "      <td>...</td>\n",
       "      <td>...</td>\n",
       "      <td>...</td>\n",
       "      <td>...</td>\n",
       "    </tr>\n",
       "    <tr>\n",
       "      <th>1732261</th>\n",
       "      <td>9055415581448263752.1640159305.1640159305</td>\n",
       "      <td>1</td>\n",
       "      <td>other_source</td>\n",
       "      <td>other</td>\n",
       "      <td>desktop</td>\n",
       "      <td>capital</td>\n",
       "      <td>paid</td>\n",
       "      <td>0</td>\n",
       "    </tr>\n",
       "    <tr>\n",
       "      <th>1732262</th>\n",
       "      <td>9055421130527858185.1622007305.1622007305</td>\n",
       "      <td>1</td>\n",
       "      <td>other_source</td>\n",
       "      <td>LTuZkdKfxRGVceoWkVyg</td>\n",
       "      <td>mobile</td>\n",
       "      <td>other</td>\n",
       "      <td>organic</td>\n",
       "      <td>0</td>\n",
       "    </tr>\n",
       "    <tr>\n",
       "      <th>1732263</th>\n",
       "      <td>9055422955903931195.1636979515.1636979515</td>\n",
       "      <td>1</td>\n",
       "      <td>other_source</td>\n",
       "      <td>LTuZkdKfxRGVceoWkVyg</td>\n",
       "      <td>mobile</td>\n",
       "      <td>capital</td>\n",
       "      <td>organic</td>\n",
       "      <td>0</td>\n",
       "    </tr>\n",
       "    <tr>\n",
       "      <th>1732264</th>\n",
       "      <td>905543020766873816.1638189404.1638189404</td>\n",
       "      <td>1</td>\n",
       "      <td>other_source</td>\n",
       "      <td>LEoPHuyFvzoNfnzGgfcd</td>\n",
       "      <td>mobile</td>\n",
       "      <td>other</td>\n",
       "      <td>paid</td>\n",
       "      <td>0</td>\n",
       "    </tr>\n",
       "    <tr>\n",
       "      <th>1732265</th>\n",
       "      <td>9055430416266113553.1640968742.1640968742</td>\n",
       "      <td>1</td>\n",
       "      <td>other_source</td>\n",
       "      <td>FTjNLDyTrXaWYgZymFkV</td>\n",
       "      <td>desktop</td>\n",
       "      <td>capital</td>\n",
       "      <td>paid</td>\n",
       "      <td>0</td>\n",
       "    </tr>\n",
       "  </tbody>\n",
       "</table>\n",
       "<p>1732266 rows × 8 columns</p>\n",
       "</div>"
      ],
      "text/plain": [
       "                                        session_id  visit_number  \\\n",
       "0        9055434745589932991.1637753792.1637753792             1   \n",
       "1         905544597018549464.1636867290.1636867290             1   \n",
       "2        9055446045651783499.1640648526.1640648526             1   \n",
       "3        9055447046360770272.1622255328.1622255328             1   \n",
       "4        9055447046360770272.1622255345.1622255345             2   \n",
       "...                                            ...           ...   \n",
       "1732261  9055415581448263752.1640159305.1640159305             1   \n",
       "1732262  9055421130527858185.1622007305.1622007305             1   \n",
       "1732263  9055422955903931195.1636979515.1636979515             1   \n",
       "1732264   905543020766873816.1638189404.1638189404             1   \n",
       "1732265  9055430416266113553.1640968742.1640968742             1   \n",
       "\n",
       "             utm_source          utm_campaign device_category geo_city  \\\n",
       "0          other_source  LEoPHuyFvzoNfnzGgfcd          mobile    other   \n",
       "1        social_network  FTjNLDyTrXaWYgZymFkV          mobile  capital   \n",
       "2          other_source  LEoPHuyFvzoNfnzGgfcd          mobile    other   \n",
       "3          other_source                 other          mobile  capital   \n",
       "4          other_source                 other          mobile  capital   \n",
       "...                 ...                   ...             ...      ...   \n",
       "1732261    other_source                 other         desktop  capital   \n",
       "1732262    other_source  LTuZkdKfxRGVceoWkVyg          mobile    other   \n",
       "1732263    other_source  LTuZkdKfxRGVceoWkVyg          mobile  capital   \n",
       "1732264    other_source  LEoPHuyFvzoNfnzGgfcd          mobile    other   \n",
       "1732265    other_source  FTjNLDyTrXaWYgZymFkV         desktop  capital   \n",
       "\n",
       "         traffic  target_action  \n",
       "0           paid              0  \n",
       "1           paid              0  \n",
       "2           paid              0  \n",
       "3           paid              0  \n",
       "4           paid              0  \n",
       "...          ...            ...  \n",
       "1732261     paid              0  \n",
       "1732262  organic              0  \n",
       "1732263  organic              0  \n",
       "1732264     paid              0  \n",
       "1732265     paid              0  \n",
       "\n",
       "[1732266 rows x 8 columns]"
      ]
     },
     "execution_count": 51,
     "metadata": {},
     "output_type": "execute_result"
    }
   ],
   "source": [
    "df = pd.merge(left=df_s, right=df_h.groupby('session_id')['target_action'].max(), on='session_id', how='inner')\n",
    "df"
   ]
  },
  {
   "cell_type": "markdown",
   "id": "5ca899d3",
   "metadata": {},
   "source": [
    "# ПРОВЕРКА ГИПОТЕЗ"
   ]
  },
  {
   "cell_type": "markdown",
   "id": "468feb3d",
   "metadata": {},
   "source": [
    "## 1"
   ]
  },
  {
   "cell_type": "markdown",
   "id": "3d463934",
   "metadata": {},
   "source": [
    "### H0: CR_organic = CR_paid (органический трафик не отличается от платного с точки зрения CR в целевые события)"
   ]
  },
  {
   "cell_type": "code",
   "execution_count": 52,
   "id": "024e463c",
   "metadata": {},
   "outputs": [
    {
     "data": {
      "text/plain": [
       "0    1681952\n",
       "1      50314\n",
       "Name: target_action, dtype: int64"
      ]
     },
     "execution_count": 52,
     "metadata": {},
     "output_type": "execute_result"
    }
   ],
   "source": [
    "df.target_action.value_counts()"
   ]
  },
  {
   "cell_type": "code",
   "execution_count": 53,
   "id": "d32a202b",
   "metadata": {},
   "outputs": [
    {
     "data": {
      "text/plain": [
       "1732266"
      ]
     },
     "execution_count": 53,
     "metadata": {},
     "output_type": "execute_result"
    }
   ],
   "source": [
    "all_traffic = df.target_action.value_counts().sum()\n",
    "all_traffic"
   ]
  },
  {
   "cell_type": "code",
   "execution_count": 54,
   "id": "f7cb08fd",
   "metadata": {},
   "outputs": [
    {
     "data": {
      "text/html": [
       "<div>\n",
       "<style scoped>\n",
       "    .dataframe tbody tr th:only-of-type {\n",
       "        vertical-align: middle;\n",
       "    }\n",
       "\n",
       "    .dataframe tbody tr th {\n",
       "        vertical-align: top;\n",
       "    }\n",
       "\n",
       "    .dataframe thead th {\n",
       "        text-align: right;\n",
       "    }\n",
       "</style>\n",
       "<table border=\"1\" class=\"dataframe\">\n",
       "  <thead>\n",
       "    <tr style=\"text-align: right;\">\n",
       "      <th>target_action</th>\n",
       "      <th>0</th>\n",
       "      <th>1</th>\n",
       "    </tr>\n",
       "    <tr>\n",
       "      <th>traffic</th>\n",
       "      <th></th>\n",
       "      <th></th>\n",
       "    </tr>\n",
       "  </thead>\n",
       "  <tbody>\n",
       "    <tr>\n",
       "      <th>organic</th>\n",
       "      <td>448108</td>\n",
       "      <td>20812</td>\n",
       "    </tr>\n",
       "    <tr>\n",
       "      <th>paid</th>\n",
       "      <td>1233844</td>\n",
       "      <td>29502</td>\n",
       "    </tr>\n",
       "  </tbody>\n",
       "</table>\n",
       "</div>"
      ],
      "text/plain": [
       "target_action        0      1\n",
       "traffic                      \n",
       "organic         448108  20812\n",
       "paid           1233844  29502"
      ]
     },
     "execution_count": 54,
     "metadata": {},
     "output_type": "execute_result"
    }
   ],
   "source": [
    "utm_traffic = df.pivot_table(index='traffic', columns = 'target_action', aggfunc='size', fill_value=0)\n",
    "utm_traffic"
   ]
  },
  {
   "cell_type": "markdown",
   "id": "e4342f23",
   "metadata": {},
   "source": [
    "Расчет CR для органического и платного трафика"
   ]
  },
  {
   "cell_type": "code",
   "execution_count": 55,
   "id": "d9b453f0",
   "metadata": {},
   "outputs": [
    {
     "name": "stdout",
     "output_type": "stream",
     "text": [
      " CR органического трафика: 1.2%, CR платного трафика: 1.7%\n"
     ]
    }
   ],
   "source": [
    "CR_organic = round(utm_traffic[1][0]/all_traffic * 100, 2)\n",
    "CR_paid = round(utm_traffic[1][1]/all_traffic * 100, 2)\n",
    "print(f' CR органического трафика: {CR_organic}%, CR платного трафика: {CR_paid}%')"
   ]
  },
  {
   "cell_type": "code",
   "execution_count": 134,
   "id": "151d2671",
   "metadata": {},
   "outputs": [
    {
     "data": {
      "image/png": "[encoded data removed]",
      "text/plain": [
       "<Figure size 640x480 with 1 Axes>"
      ]
     },
     "metadata": {},
     "output_type": "display_data"
    }
   ],
   "source": [
    "data = {'Органический трафик': 1.2, 'Платный трафик': 1.7}\n",
    "plt.bar(data.keys(), data.values())\n",
    "plt.xlabel('Категория трафика')\n",
    "plt.ylabel('CR')\n",
    "plt.title('Графическое отображение CR органического и платного трафика')\n",
    "plt.show()"
   ]
  },
  {
   "cell_type": "markdown",
   "id": "0dae5c46",
   "metadata": {},
   "source": [
    "Исходя из полученных значений, CR органического и платного трафика равна 1.2 % и 1.7 %, соответственно, можно сделать вывод о том, что Н0 не подтверждается, т.к. эти показатели неравны. Конверсия платного трафика выше органического на 0,5 п.п."
   ]
  },
  {
   "cell_type": "markdown",
   "id": "0fc30f64",
   "metadata": {},
   "source": [
    "## 2"
   ]
  },
  {
   "cell_type": "markdown",
   "id": "985e968d",
   "metadata": {},
   "source": [
    "### H0: CR_dekstop = CR_mobile = CR_tablet (трафик с мобильных устройств не отличается от трафика с десктопных устройств с точки зрения CR в целевые события)"
   ]
  },
  {
   "cell_type": "code",
   "execution_count": 106,
   "id": "12052ecf",
   "metadata": {},
   "outputs": [
    {
     "data": {
      "text/html": [
       "<div>\n",
       "<style scoped>\n",
       "    .dataframe tbody tr th:only-of-type {\n",
       "        vertical-align: middle;\n",
       "    }\n",
       "\n",
       "    .dataframe tbody tr th {\n",
       "        vertical-align: top;\n",
       "    }\n",
       "\n",
       "    .dataframe thead th {\n",
       "        text-align: right;\n",
       "    }\n",
       "</style>\n",
       "<table border=\"1\" class=\"dataframe\">\n",
       "  <thead>\n",
       "    <tr style=\"text-align: right;\">\n",
       "      <th>target_action</th>\n",
       "      <th>0</th>\n",
       "      <th>1</th>\n",
       "    </tr>\n",
       "    <tr>\n",
       "      <th>device_category</th>\n",
       "      <th></th>\n",
       "      <th></th>\n",
       "    </tr>\n",
       "  </thead>\n",
       "  <tbody>\n",
       "    <tr>\n",
       "      <th>desktop</th>\n",
       "      <td>335378</td>\n",
       "      <td>11513</td>\n",
       "    </tr>\n",
       "    <tr>\n",
       "      <th>mobile</th>\n",
       "      <td>1330300</td>\n",
       "      <td>38379</td>\n",
       "    </tr>\n",
       "    <tr>\n",
       "      <th>tablet</th>\n",
       "      <td>16274</td>\n",
       "      <td>422</td>\n",
       "    </tr>\n",
       "  </tbody>\n",
       "</table>\n",
       "</div>"
      ],
      "text/plain": [
       "target_action          0      1\n",
       "device_category                \n",
       "desktop           335378  11513\n",
       "mobile           1330300  38379\n",
       "tablet             16274    422"
      ]
     },
     "execution_count": 106,
     "metadata": {},
     "output_type": "execute_result"
    }
   ],
   "source": [
    "utm_device = df.pivot_table(index='device_category', columns = 'target_action', aggfunc='size', fill_value=0)\n",
    "utm_device"
   ]
  },
  {
   "cell_type": "markdown",
   "id": "e1f3b584",
   "metadata": {},
   "source": [
    "Расчет CR для трафика с разных типов устройств"
   ]
  },
  {
   "cell_type": "code",
   "execution_count": 107,
   "id": "f1df79f6",
   "metadata": {},
   "outputs": [
    {
     "name": "stdout",
     "output_type": "stream",
     "text": [
      " CR трафика с дектопных устройств: 0.66%, CR трафика с мобильных устройств: 2.22%, CR трафика с планшетов:0.02%\n"
     ]
    }
   ],
   "source": [
    "CR_desktop = round(utm_device[1][0]/all_traffic * 100, 2)\n",
    "CR_mobile = round(utm_device[1][1]/all_traffic * 100, 2)\n",
    "CR_tablet = round(utm_device[1][2]/all_traffic * 100, 2)\n",
    "print(f' CR трафика с дектопных устройств: {CR_desktop}%, CR трафика с мобильных устройств: {CR_mobile}%, CR трафика с планшетов:{CR_tablet}%')"
   ]
  },
  {
   "cell_type": "code",
   "execution_count": 135,
   "id": "379cae6c",
   "metadata": {},
   "outputs": [
    {
     "data": {
      "image/png": "[encoded data removed]",
      "text/plain": [
       "<Figure size 640x480 with 1 Axes>"
      ]
     },
     "metadata": {},
     "output_type": "display_data"
    }
   ],
   "source": [
    "data_device = {'desktop': 0.66, 'mobile': 2.22, 'tablet': 0.02}\n",
    "plt.bar(data_device.keys(), data_device.values())\n",
    "plt.xlabel('Категория трафика')\n",
    "plt.ylabel('CR')\n",
    "plt.title('Графическое отображение CR трафика с декстопных и мобильных устройств и планшетов')\n",
    "plt.show()"
   ]
  },
  {
   "cell_type": "markdown",
   "id": "ebb70107",
   "metadata": {},
   "source": [
    "Исходя из полученных значений, CR трафика с декстопных и мобильных устройств и планшетов равна 0.66, 2.22 и 0.02 %, соответственно, можно сделать вывод о том, что Н0 не подтверждается, т.к. эти показатели неравны. Конверсия разных видов трафика отличается друг от друга, наибольшей конверсией обладают мобильные устройства."
   ]
  },
  {
   "cell_type": "markdown",
   "id": "44f5c5b7",
   "metadata": {},
   "source": [
    "# 3"
   ]
  },
  {
   "cell_type": "markdown",
   "id": "991562db",
   "metadata": {},
   "source": [
    "### H0: CR_capital = CR_other (трафик из городов присутствия (Москва и область, Санкт-Петербург - capital) не отличается от трафика из иных регионов с точки зрения CR в целевые события.)"
   ]
  },
  {
   "cell_type": "code",
   "execution_count": 109,
   "id": "270c0b3f",
   "metadata": {},
   "outputs": [
    {
     "data": {
      "text/html": [
       "<div>\n",
       "<style scoped>\n",
       "    .dataframe tbody tr th:only-of-type {\n",
       "        vertical-align: middle;\n",
       "    }\n",
       "\n",
       "    .dataframe tbody tr th {\n",
       "        vertical-align: top;\n",
       "    }\n",
       "\n",
       "    .dataframe thead th {\n",
       "        text-align: right;\n",
       "    }\n",
       "</style>\n",
       "<table border=\"1\" class=\"dataframe\">\n",
       "  <thead>\n",
       "    <tr style=\"text-align: right;\">\n",
       "      <th>target_action</th>\n",
       "      <th>0</th>\n",
       "      <th>1</th>\n",
       "    </tr>\n",
       "    <tr>\n",
       "      <th>geo_city</th>\n",
       "      <th></th>\n",
       "      <th></th>\n",
       "    </tr>\n",
       "  </thead>\n",
       "  <tbody>\n",
       "    <tr>\n",
       "      <th>capital</th>\n",
       "      <td>1085415</td>\n",
       "      <td>33465</td>\n",
       "    </tr>\n",
       "    <tr>\n",
       "      <th>other</th>\n",
       "      <td>596537</td>\n",
       "      <td>16849</td>\n",
       "    </tr>\n",
       "  </tbody>\n",
       "</table>\n",
       "</div>"
      ],
      "text/plain": [
       "target_action        0      1\n",
       "geo_city                     \n",
       "capital        1085415  33465\n",
       "other           596537  16849"
      ]
     },
     "execution_count": 109,
     "metadata": {},
     "output_type": "execute_result"
    }
   ],
   "source": [
    "utm_city = df.pivot_table(index='geo_city', columns = 'target_action', aggfunc='size', fill_value=0)\n",
    "utm_city"
   ]
  },
  {
   "cell_type": "markdown",
   "id": "355d4bae",
   "metadata": {},
   "source": [
    "Расчет CR для трафика из городов присутствия"
   ]
  },
  {
   "cell_type": "code",
   "execution_count": 110,
   "id": "4e2ec209",
   "metadata": {},
   "outputs": [
    {
     "name": "stdout",
     "output_type": "stream",
     "text": [
      " CR трафика городов присутствия: 1.93%, CR трафика иных городов: 0.97%\n"
     ]
    }
   ],
   "source": [
    "CR_capital = round(utm_city[1][0]/all_traffic * 100, 2)\n",
    "CR_other = round(utm_city[1][1]/all_traffic * 100, 2)\n",
    "print(f' CR трафика городов присутствия: {CR_capital}%, CR трафика иных городов: {CR_other}%')"
   ]
  },
  {
   "cell_type": "code",
   "execution_count": 136,
   "id": "2bfe6efd",
   "metadata": {},
   "outputs": [
    {
     "data": {
      "image/png": "[encoded data removed]",
      "text/plain": [
       "<Figure size 640x480 with 1 Axes>"
      ]
     },
     "metadata": {},
     "output_type": "display_data"
    }
   ],
   "source": [
    "data_city = {'Город присутствия': 1.93, 'Иные города': 0.97}\n",
    "plt.bar(data_city.keys(), data_city.values())\n",
    "plt.xlabel('Категория трафика')\n",
    "plt.ylabel('CR')\n",
    "plt.title('Графическое отображение CR трафика городов присутствия и иных городов')\n",
    "plt.show()"
   ]
  },
  {
   "cell_type": "markdown",
   "id": "59526e84",
   "metadata": {},
   "source": [
    "Исходя из полученных значений, CR трафика городов присутствия и иных городов равна 1.93 и 0.97 %, соответственно, можно сделать вывод о том, что Н0 не подтверждается, т.к. эти показатели неравны. Трафик из городов присутствия отличается от трафика из иных регионов с точки зрения CR в целевые события, трафик городов присутствия выше трафика из иных регионов почти на 1 п.п."
   ]
  },
  {
   "cell_type": "markdown",
   "id": "01d72a93",
   "metadata": {},
   "source": [
    "# Ответы на вопросы продуктовой команды"
   ]
  },
  {
   "cell_type": "markdown",
   "id": "1753730c",
   "metadata": {},
   "source": [
    "1. Из каких источников / кампаний / устройств / локаций к нам идёт самый целевой трафик (и с точки зрения объёма трафика, и с точки зрения CR)?"
   ]
  },
  {
   "cell_type": "markdown",
   "id": "a3e13a4c",
   "metadata": {},
   "source": [
    "Сводная таблица различных источников целевого трафика:"
   ]
  },
  {
   "cell_type": "code",
   "execution_count": 113,
   "id": "7e2d60d3",
   "metadata": {},
   "outputs": [
    {
     "data": {
      "text/html": [
       "<div>\n",
       "<style scoped>\n",
       "    .dataframe tbody tr th:only-of-type {\n",
       "        vertical-align: middle;\n",
       "    }\n",
       "\n",
       "    .dataframe tbody tr th {\n",
       "        vertical-align: top;\n",
       "    }\n",
       "\n",
       "    .dataframe thead th {\n",
       "        text-align: right;\n",
       "    }\n",
       "</style>\n",
       "<table border=\"1\" class=\"dataframe\">\n",
       "  <thead>\n",
       "    <tr style=\"text-align: right;\">\n",
       "      <th></th>\n",
       "      <th></th>\n",
       "      <th></th>\n",
       "      <th>target_action</th>\n",
       "      <th>0</th>\n",
       "      <th>1</th>\n",
       "    </tr>\n",
       "    <tr>\n",
       "      <th>utm_source</th>\n",
       "      <th>utm_campaign</th>\n",
       "      <th>device_category</th>\n",
       "      <th>geo_city</th>\n",
       "      <th></th>\n",
       "      <th></th>\n",
       "    </tr>\n",
       "  </thead>\n",
       "  <tbody>\n",
       "    <tr>\n",
       "      <th rowspan=\"10\" valign=\"top\">other_source</th>\n",
       "      <th rowspan=\"2\" valign=\"top\">LTuZkdKfxRGVceoWkVyg</th>\n",
       "      <th>mobile</th>\n",
       "      <th>capital</th>\n",
       "      <td>176907</td>\n",
       "      <td>7459</td>\n",
       "    </tr>\n",
       "    <tr>\n",
       "      <th>desktop</th>\n",
       "      <th>capital</th>\n",
       "      <td>77737</td>\n",
       "      <td>4780</td>\n",
       "    </tr>\n",
       "    <tr>\n",
       "      <th rowspan=\"2\" valign=\"top\">LEoPHuyFvzoNfnzGgfcd</th>\n",
       "      <th rowspan=\"2\" valign=\"top\">mobile</th>\n",
       "      <th>capital</th>\n",
       "      <td>129138</td>\n",
       "      <td>4776</td>\n",
       "    </tr>\n",
       "    <tr>\n",
       "      <th>other</th>\n",
       "      <td>180469</td>\n",
       "      <td>4490</td>\n",
       "    </tr>\n",
       "    <tr>\n",
       "      <th>LTuZkdKfxRGVceoWkVyg</th>\n",
       "      <th>mobile</th>\n",
       "      <th>other</th>\n",
       "      <td>92568</td>\n",
       "      <td>3986</td>\n",
       "    </tr>\n",
       "    <tr>\n",
       "      <th>other</th>\n",
       "      <th>mobile</th>\n",
       "      <th>capital</th>\n",
       "      <td>105748</td>\n",
       "      <td>3845</td>\n",
       "    </tr>\n",
       "    <tr>\n",
       "      <th>gecBYcKZCPMcVYdSSzKP</th>\n",
       "      <th>mobile</th>\n",
       "      <th>other</th>\n",
       "      <td>77727</td>\n",
       "      <td>2542</td>\n",
       "    </tr>\n",
       "    <tr>\n",
       "      <th>LTuZkdKfxRGVceoWkVyg</th>\n",
       "      <th>desktop</th>\n",
       "      <th>other</th>\n",
       "      <td>50099</td>\n",
       "      <td>2532</td>\n",
       "    </tr>\n",
       "    <tr>\n",
       "      <th>other</th>\n",
       "      <th>desktop</th>\n",
       "      <th>capital</th>\n",
       "      <td>43467</td>\n",
       "      <td>1960</td>\n",
       "    </tr>\n",
       "    <tr>\n",
       "      <th>gecBYcKZCPMcVYdSSzKP</th>\n",
       "      <th>mobile</th>\n",
       "      <th>capital</th>\n",
       "      <td>49968</td>\n",
       "      <td>1944</td>\n",
       "    </tr>\n",
       "    <tr>\n",
       "      <th>social_network</th>\n",
       "      <th>FTjNLDyTrXaWYgZymFkV</th>\n",
       "      <th>mobile</th>\n",
       "      <th>capital</th>\n",
       "      <td>137674</td>\n",
       "      <td>1769</td>\n",
       "    </tr>\n",
       "    <tr>\n",
       "      <th rowspan=\"2\" valign=\"top\">other_source</th>\n",
       "      <th>other</th>\n",
       "      <th>mobile</th>\n",
       "      <th>other</th>\n",
       "      <td>16790</td>\n",
       "      <td>526</td>\n",
       "    </tr>\n",
       "    <tr>\n",
       "      <th>sbJRYgVfvcnqKJNDDYIr</th>\n",
       "      <th>mobile</th>\n",
       "      <th>capital</th>\n",
       "      <td>16763</td>\n",
       "      <td>502</td>\n",
       "    </tr>\n",
       "    <tr>\n",
       "      <th>social_network</th>\n",
       "      <th>other</th>\n",
       "      <th>mobile</th>\n",
       "      <th>capital</th>\n",
       "      <td>5142</td>\n",
       "      <td>392</td>\n",
       "    </tr>\n",
       "    <tr>\n",
       "      <th>other_source</th>\n",
       "      <th>other</th>\n",
       "      <th>desktop</th>\n",
       "      <th>other</th>\n",
       "      <td>12339</td>\n",
       "      <td>297</td>\n",
       "    </tr>\n",
       "    <tr>\n",
       "      <th>social_network</th>\n",
       "      <th>FTjNLDyTrXaWYgZymFkV</th>\n",
       "      <th>desktop</th>\n",
       "      <th>capital</th>\n",
       "      <td>28583</td>\n",
       "      <td>232</td>\n",
       "    </tr>\n",
       "    <tr>\n",
       "      <th rowspan=\"4\" valign=\"top\">other_source</th>\n",
       "      <th>eimRuUrNhZLAYcwRrNXu</th>\n",
       "      <th>mobile</th>\n",
       "      <th>capital</th>\n",
       "      <td>6566</td>\n",
       "      <td>227</td>\n",
       "    </tr>\n",
       "    <tr>\n",
       "      <th>SgIUDYUKnyWHVowUOqid</th>\n",
       "      <th>mobile</th>\n",
       "      <th>other</th>\n",
       "      <td>9571</td>\n",
       "      <td>225</td>\n",
       "    </tr>\n",
       "    <tr>\n",
       "      <th>LwJZxKuWmvOhPsaCeRjG</th>\n",
       "      <th>mobile</th>\n",
       "      <th>capital</th>\n",
       "      <td>10227</td>\n",
       "      <td>191</td>\n",
       "    </tr>\n",
       "    <tr>\n",
       "      <th>XHNUiSKKGTEpSAlaVMFQ</th>\n",
       "      <th>mobile</th>\n",
       "      <th>capital</th>\n",
       "      <td>12122</td>\n",
       "      <td>173</td>\n",
       "    </tr>\n",
       "  </tbody>\n",
       "</table>\n",
       "</div>"
      ],
      "text/plain": [
       "target_action                                                      0     1\n",
       "utm_source     utm_campaign         device_category geo_city              \n",
       "other_source   LTuZkdKfxRGVceoWkVyg mobile          capital   176907  7459\n",
       "                                    desktop         capital    77737  4780\n",
       "               LEoPHuyFvzoNfnzGgfcd mobile          capital   129138  4776\n",
       "                                                    other     180469  4490\n",
       "               LTuZkdKfxRGVceoWkVyg mobile          other      92568  3986\n",
       "               other                mobile          capital   105748  3845\n",
       "               gecBYcKZCPMcVYdSSzKP mobile          other      77727  2542\n",
       "               LTuZkdKfxRGVceoWkVyg desktop         other      50099  2532\n",
       "               other                desktop         capital    43467  1960\n",
       "               gecBYcKZCPMcVYdSSzKP mobile          capital    49968  1944\n",
       "social_network FTjNLDyTrXaWYgZymFkV mobile          capital   137674  1769\n",
       "other_source   other                mobile          other      16790   526\n",
       "               sbJRYgVfvcnqKJNDDYIr mobile          capital    16763   502\n",
       "social_network other                mobile          capital     5142   392\n",
       "other_source   other                desktop         other      12339   297\n",
       "social_network FTjNLDyTrXaWYgZymFkV desktop         capital    28583   232\n",
       "other_source   eimRuUrNhZLAYcwRrNXu mobile          capital     6566   227\n",
       "               SgIUDYUKnyWHVowUOqid mobile          other       9571   225\n",
       "               LwJZxKuWmvOhPsaCeRjG mobile          capital    10227   191\n",
       "               XHNUiSKKGTEpSAlaVMFQ mobile          capital    12122   173"
      ]
     },
     "execution_count": 113,
     "metadata": {},
     "output_type": "execute_result"
    }
   ],
   "source": [
    "utm = df.pivot_table(columns='target_action', index=['utm_source','utm_campaign','device_category','geo_city'], aggfunc='size', fill_value=0)\n",
    "utm.sort_values(by=[1], axis=0, ascending=False, inplace=False)[:20]"
   ]
  },
  {
   "cell_type": "markdown",
   "id": "f94549d4",
   "metadata": {},
   "source": [
    "#### C точки зрения CR"
   ]
  },
  {
   "cell_type": "markdown",
   "id": "c41e2ef5",
   "metadata": {},
   "source": [
    "Самый целевой трафик идет не из социальных сетей, из рекламной кампании - LTuZkdKfxRGVceoWkVyg, с мобильных устройств из городов присутствия. Из социальных сетей наиболее эффективна была рекламная кампания - FTjNLDyTrXaWYgZymFkV на мобильных устройствах из городов присутствия."
   ]
  },
  {
   "cell_type": "markdown",
   "id": "2bce623a",
   "metadata": {},
   "source": [
    "#### С точки зрения объема трафика"
   ]
  },
  {
   "cell_type": "code",
   "execution_count": 114,
   "id": "64d9dd8d",
   "metadata": {},
   "outputs": [
    {
     "data": {
      "text/html": [
       "<div>\n",
       "<style scoped>\n",
       "    .dataframe tbody tr th:only-of-type {\n",
       "        vertical-align: middle;\n",
       "    }\n",
       "\n",
       "    .dataframe tbody tr th {\n",
       "        vertical-align: top;\n",
       "    }\n",
       "\n",
       "    .dataframe thead th {\n",
       "        text-align: right;\n",
       "    }\n",
       "</style>\n",
       "<table border=\"1\" class=\"dataframe\">\n",
       "  <thead>\n",
       "    <tr style=\"text-align: right;\">\n",
       "      <th></th>\n",
       "      <th></th>\n",
       "      <th></th>\n",
       "      <th>target_action</th>\n",
       "      <th>0</th>\n",
       "      <th>1</th>\n",
       "    </tr>\n",
       "    <tr>\n",
       "      <th>utm_source</th>\n",
       "      <th>utm_campaign</th>\n",
       "      <th>device_category</th>\n",
       "      <th>geo_city</th>\n",
       "      <th></th>\n",
       "      <th></th>\n",
       "    </tr>\n",
       "  </thead>\n",
       "  <tbody>\n",
       "    <tr>\n",
       "      <th rowspan=\"2\" valign=\"top\">other_source</th>\n",
       "      <th>LEoPHuyFvzoNfnzGgfcd</th>\n",
       "      <th>mobile</th>\n",
       "      <th>other</th>\n",
       "      <td>180469</td>\n",
       "      <td>4490</td>\n",
       "    </tr>\n",
       "    <tr>\n",
       "      <th>LTuZkdKfxRGVceoWkVyg</th>\n",
       "      <th>mobile</th>\n",
       "      <th>capital</th>\n",
       "      <td>176907</td>\n",
       "      <td>7459</td>\n",
       "    </tr>\n",
       "    <tr>\n",
       "      <th>social_network</th>\n",
       "      <th>FTjNLDyTrXaWYgZymFkV</th>\n",
       "      <th>mobile</th>\n",
       "      <th>capital</th>\n",
       "      <td>137674</td>\n",
       "      <td>1769</td>\n",
       "    </tr>\n",
       "    <tr>\n",
       "      <th rowspan=\"7\" valign=\"top\">other_source</th>\n",
       "      <th>LEoPHuyFvzoNfnzGgfcd</th>\n",
       "      <th>mobile</th>\n",
       "      <th>capital</th>\n",
       "      <td>129138</td>\n",
       "      <td>4776</td>\n",
       "    </tr>\n",
       "    <tr>\n",
       "      <th>other</th>\n",
       "      <th>mobile</th>\n",
       "      <th>capital</th>\n",
       "      <td>105748</td>\n",
       "      <td>3845</td>\n",
       "    </tr>\n",
       "    <tr>\n",
       "      <th rowspan=\"2\" valign=\"top\">LTuZkdKfxRGVceoWkVyg</th>\n",
       "      <th>mobile</th>\n",
       "      <th>other</th>\n",
       "      <td>92568</td>\n",
       "      <td>3986</td>\n",
       "    </tr>\n",
       "    <tr>\n",
       "      <th>desktop</th>\n",
       "      <th>capital</th>\n",
       "      <td>77737</td>\n",
       "      <td>4780</td>\n",
       "    </tr>\n",
       "    <tr>\n",
       "      <th>gecBYcKZCPMcVYdSSzKP</th>\n",
       "      <th>mobile</th>\n",
       "      <th>other</th>\n",
       "      <td>77727</td>\n",
       "      <td>2542</td>\n",
       "    </tr>\n",
       "    <tr>\n",
       "      <th>LTuZkdKfxRGVceoWkVyg</th>\n",
       "      <th>desktop</th>\n",
       "      <th>other</th>\n",
       "      <td>50099</td>\n",
       "      <td>2532</td>\n",
       "    </tr>\n",
       "    <tr>\n",
       "      <th>gecBYcKZCPMcVYdSSzKP</th>\n",
       "      <th>mobile</th>\n",
       "      <th>capital</th>\n",
       "      <td>49968</td>\n",
       "      <td>1944</td>\n",
       "    </tr>\n",
       "  </tbody>\n",
       "</table>\n",
       "</div>"
      ],
      "text/plain": [
       "target_action                                                      0     1\n",
       "utm_source     utm_campaign         device_category geo_city              \n",
       "other_source   LEoPHuyFvzoNfnzGgfcd mobile          other     180469  4490\n",
       "               LTuZkdKfxRGVceoWkVyg mobile          capital   176907  7459\n",
       "social_network FTjNLDyTrXaWYgZymFkV mobile          capital   137674  1769\n",
       "other_source   LEoPHuyFvzoNfnzGgfcd mobile          capital   129138  4776\n",
       "               other                mobile          capital   105748  3845\n",
       "               LTuZkdKfxRGVceoWkVyg mobile          other      92568  3986\n",
       "                                    desktop         capital    77737  4780\n",
       "               gecBYcKZCPMcVYdSSzKP mobile          other      77727  2542\n",
       "               LTuZkdKfxRGVceoWkVyg desktop         other      50099  2532\n",
       "               gecBYcKZCPMcVYdSSzKP mobile          capital    49968  1944"
      ]
     },
     "execution_count": 114,
     "metadata": {},
     "output_type": "execute_result"
    }
   ],
   "source": [
    "utm.sort_values(by=[0], axis=0, ascending=False, inplace=False)[:10]"
   ]
  },
  {
   "cell_type": "markdown",
   "id": "428c94f5",
   "metadata": {},
   "source": [
    "Самый целевой трафик идет не из социальных сетей, из рекламных кампаний - LEoPHuyFvzoNfnzGgfcd с мобильных устройств не из городов присутствия. Из социальных сетей наиболее эффективна была рекламная кампания - FTjNLDyTrXaWYgZymFkV на мобильных устройствах из городов присутствия."
   ]
  },
  {
   "cell_type": "markdown",
   "id": "8f55739c",
   "metadata": {},
   "source": [
    "2. Какие авто пользуются наибольшим спросом? У каких авто самый лучший показатель CR (Conversion Rate) в целевые события?"
   ]
  },
  {
   "cell_type": "markdown",
   "id": "bb58735d",
   "metadata": {},
   "source": [
    "Создание признака - марка автомобиля('car_brand')"
   ]
  },
  {
   "cell_type": "code",
   "execution_count": 141,
   "id": "b886ff2f",
   "metadata": {},
   "outputs": [
    {
     "data": {
      "text/plain": [
       "0                   other\n",
       "1                   other\n",
       "2              volkswagen\n",
       "3                   other\n",
       "4           mercedes-benz\n",
       "                ...      \n",
       "15726465           toyota\n",
       "15726466    mercedes-benz\n",
       "15726467           toyota\n",
       "15726468              bmw\n",
       "15726469              bmw\n",
       "Name: car_brand, Length: 15726470, dtype: object"
      ]
     },
     "execution_count": 141,
     "metadata": {},
     "output_type": "execute_result"
    }
   ],
   "source": [
    "df_h['car_brand'] = df_h.hit_page_path.apply(lambda x: x.split('/')[3] if 'all' in x.split('/') else 'other')\n",
    "df_h.car_brand"
   ]
  },
  {
   "cell_type": "code",
   "execution_count": 117,
   "id": "103e1e73",
   "metadata": {},
   "outputs": [
    {
     "data": {
      "text/html": [
       "<div>\n",
       "<style scoped>\n",
       "    .dataframe tbody tr th:only-of-type {\n",
       "        vertical-align: middle;\n",
       "    }\n",
       "\n",
       "    .dataframe tbody tr th {\n",
       "        vertical-align: top;\n",
       "    }\n",
       "\n",
       "    .dataframe thead th {\n",
       "        text-align: right;\n",
       "    }\n",
       "</style>\n",
       "<table border=\"1\" class=\"dataframe\">\n",
       "  <thead>\n",
       "    <tr style=\"text-align: right;\">\n",
       "      <th>target_action</th>\n",
       "      <th>0</th>\n",
       "      <th>1</th>\n",
       "    </tr>\n",
       "    <tr>\n",
       "      <th>car_brand</th>\n",
       "      <th></th>\n",
       "      <th></th>\n",
       "    </tr>\n",
       "  </thead>\n",
       "  <tbody>\n",
       "    <tr>\n",
       "      <th>audi</th>\n",
       "      <td>59869</td>\n",
       "      <td>166</td>\n",
       "    </tr>\n",
       "    <tr>\n",
       "      <th>bmw</th>\n",
       "      <td>194011</td>\n",
       "      <td>1393</td>\n",
       "    </tr>\n",
       "    <tr>\n",
       "      <th>haval</th>\n",
       "      <td>50956</td>\n",
       "      <td>582</td>\n",
       "    </tr>\n",
       "    <tr>\n",
       "      <th>honda</th>\n",
       "      <td>390</td>\n",
       "      <td>7</td>\n",
       "    </tr>\n",
       "    <tr>\n",
       "      <th>hyundai</th>\n",
       "      <td>18588</td>\n",
       "      <td>466</td>\n",
       "    </tr>\n",
       "    <tr>\n",
       "      <th>infiniti</th>\n",
       "      <td>193</td>\n",
       "      <td>18</td>\n",
       "    </tr>\n",
       "    <tr>\n",
       "      <th>kia</th>\n",
       "      <td>233535</td>\n",
       "      <td>2735</td>\n",
       "    </tr>\n",
       "    <tr>\n",
       "      <th>lada-vaz</th>\n",
       "      <td>398554</td>\n",
       "      <td>5356</td>\n",
       "    </tr>\n",
       "    <tr>\n",
       "      <th>land-rover</th>\n",
       "      <td>24826</td>\n",
       "      <td>46</td>\n",
       "    </tr>\n",
       "    <tr>\n",
       "      <th>lexus</th>\n",
       "      <td>61372</td>\n",
       "      <td>259</td>\n",
       "    </tr>\n",
       "    <tr>\n",
       "      <th>mercedes-benz</th>\n",
       "      <td>469876</td>\n",
       "      <td>2440</td>\n",
       "    </tr>\n",
       "    <tr>\n",
       "      <th>mini</th>\n",
       "      <td>34639</td>\n",
       "      <td>70</td>\n",
       "    </tr>\n",
       "    <tr>\n",
       "      <th>nissan</th>\n",
       "      <td>237315</td>\n",
       "      <td>1386</td>\n",
       "    </tr>\n",
       "    <tr>\n",
       "      <th>other</th>\n",
       "      <td>12238634</td>\n",
       "      <td>73021</td>\n",
       "    </tr>\n",
       "    <tr>\n",
       "      <th>peugeot</th>\n",
       "      <td>27283</td>\n",
       "      <td>148</td>\n",
       "    </tr>\n",
       "    <tr>\n",
       "      <th>porsche</th>\n",
       "      <td>63438</td>\n",
       "      <td>131</td>\n",
       "    </tr>\n",
       "    <tr>\n",
       "      <th>renault</th>\n",
       "      <td>149200</td>\n",
       "      <td>1456</td>\n",
       "    </tr>\n",
       "    <tr>\n",
       "      <th>skoda</th>\n",
       "      <td>736255</td>\n",
       "      <td>8261</td>\n",
       "    </tr>\n",
       "    <tr>\n",
       "      <th>toyota</th>\n",
       "      <td>159177</td>\n",
       "      <td>1663</td>\n",
       "    </tr>\n",
       "    <tr>\n",
       "      <th>volkswagen</th>\n",
       "      <td>412072</td>\n",
       "      <td>5056</td>\n",
       "    </tr>\n",
       "    <tr>\n",
       "      <th>volvo</th>\n",
       "      <td>51379</td>\n",
       "      <td>248</td>\n",
       "    </tr>\n",
       "  </tbody>\n",
       "</table>\n",
       "</div>"
      ],
      "text/plain": [
       "target_action         0      1\n",
       "car_brand                     \n",
       "audi              59869    166\n",
       "bmw              194011   1393\n",
       "haval             50956    582\n",
       "honda               390      7\n",
       "hyundai           18588    466\n",
       "infiniti            193     18\n",
       "kia              233535   2735\n",
       "lada-vaz         398554   5356\n",
       "land-rover        24826     46\n",
       "lexus             61372    259\n",
       "mercedes-benz    469876   2440\n",
       "mini              34639     70\n",
       "nissan           237315   1386\n",
       "other          12238634  73021\n",
       "peugeot           27283    148\n",
       "porsche           63438    131\n",
       "renault          149200   1456\n",
       "skoda            736255   8261\n",
       "toyota           159177   1663\n",
       "volkswagen       412072   5056\n",
       "volvo             51379    248"
      ]
     },
     "execution_count": 117,
     "metadata": {},
     "output_type": "execute_result"
    }
   ],
   "source": [
    "cars = df_h.pivot_table(index='car_brand', columns = 'target_action', aggfunc='size', fill_value=0)\n",
    "cars"
   ]
  },
  {
   "cell_type": "markdown",
   "id": "0c43e2b3",
   "metadata": {},
   "source": [
    "Объем трафика на определенную марку автомобиля"
   ]
  },
  {
   "cell_type": "code",
   "execution_count": 118,
   "id": "bcb1f0d4",
   "metadata": {},
   "outputs": [
    {
     "data": {
      "text/html": [
       "<div>\n",
       "<style scoped>\n",
       "    .dataframe tbody tr th:only-of-type {\n",
       "        vertical-align: middle;\n",
       "    }\n",
       "\n",
       "    .dataframe tbody tr th {\n",
       "        vertical-align: top;\n",
       "    }\n",
       "\n",
       "    .dataframe thead th {\n",
       "        text-align: right;\n",
       "    }\n",
       "</style>\n",
       "<table border=\"1\" class=\"dataframe\">\n",
       "  <thead>\n",
       "    <tr style=\"text-align: right;\">\n",
       "      <th>target_action</th>\n",
       "      <th>0</th>\n",
       "      <th>1</th>\n",
       "      <th>count</th>\n",
       "    </tr>\n",
       "    <tr>\n",
       "      <th>car_brand</th>\n",
       "      <th></th>\n",
       "      <th></th>\n",
       "      <th></th>\n",
       "    </tr>\n",
       "  </thead>\n",
       "  <tbody>\n",
       "    <tr>\n",
       "      <th>other</th>\n",
       "      <td>12238634</td>\n",
       "      <td>73021</td>\n",
       "      <td>12311655</td>\n",
       "    </tr>\n",
       "    <tr>\n",
       "      <th>skoda</th>\n",
       "      <td>736255</td>\n",
       "      <td>8261</td>\n",
       "      <td>744516</td>\n",
       "    </tr>\n",
       "    <tr>\n",
       "      <th>mercedes-benz</th>\n",
       "      <td>469876</td>\n",
       "      <td>2440</td>\n",
       "      <td>472316</td>\n",
       "    </tr>\n",
       "    <tr>\n",
       "      <th>volkswagen</th>\n",
       "      <td>412072</td>\n",
       "      <td>5056</td>\n",
       "      <td>417128</td>\n",
       "    </tr>\n",
       "    <tr>\n",
       "      <th>lada-vaz</th>\n",
       "      <td>398554</td>\n",
       "      <td>5356</td>\n",
       "      <td>403910</td>\n",
       "    </tr>\n",
       "    <tr>\n",
       "      <th>nissan</th>\n",
       "      <td>237315</td>\n",
       "      <td>1386</td>\n",
       "      <td>238701</td>\n",
       "    </tr>\n",
       "    <tr>\n",
       "      <th>kia</th>\n",
       "      <td>233535</td>\n",
       "      <td>2735</td>\n",
       "      <td>236270</td>\n",
       "    </tr>\n",
       "    <tr>\n",
       "      <th>bmw</th>\n",
       "      <td>194011</td>\n",
       "      <td>1393</td>\n",
       "      <td>195404</td>\n",
       "    </tr>\n",
       "    <tr>\n",
       "      <th>toyota</th>\n",
       "      <td>159177</td>\n",
       "      <td>1663</td>\n",
       "      <td>160840</td>\n",
       "    </tr>\n",
       "    <tr>\n",
       "      <th>renault</th>\n",
       "      <td>149200</td>\n",
       "      <td>1456</td>\n",
       "      <td>150656</td>\n",
       "    </tr>\n",
       "    <tr>\n",
       "      <th>porsche</th>\n",
       "      <td>63438</td>\n",
       "      <td>131</td>\n",
       "      <td>63569</td>\n",
       "    </tr>\n",
       "    <tr>\n",
       "      <th>lexus</th>\n",
       "      <td>61372</td>\n",
       "      <td>259</td>\n",
       "      <td>61631</td>\n",
       "    </tr>\n",
       "    <tr>\n",
       "      <th>audi</th>\n",
       "      <td>59869</td>\n",
       "      <td>166</td>\n",
       "      <td>60035</td>\n",
       "    </tr>\n",
       "    <tr>\n",
       "      <th>volvo</th>\n",
       "      <td>51379</td>\n",
       "      <td>248</td>\n",
       "      <td>51627</td>\n",
       "    </tr>\n",
       "    <tr>\n",
       "      <th>haval</th>\n",
       "      <td>50956</td>\n",
       "      <td>582</td>\n",
       "      <td>51538</td>\n",
       "    </tr>\n",
       "    <tr>\n",
       "      <th>mini</th>\n",
       "      <td>34639</td>\n",
       "      <td>70</td>\n",
       "      <td>34709</td>\n",
       "    </tr>\n",
       "    <tr>\n",
       "      <th>peugeot</th>\n",
       "      <td>27283</td>\n",
       "      <td>148</td>\n",
       "      <td>27431</td>\n",
       "    </tr>\n",
       "    <tr>\n",
       "      <th>land-rover</th>\n",
       "      <td>24826</td>\n",
       "      <td>46</td>\n",
       "      <td>24872</td>\n",
       "    </tr>\n",
       "    <tr>\n",
       "      <th>hyundai</th>\n",
       "      <td>18588</td>\n",
       "      <td>466</td>\n",
       "      <td>19054</td>\n",
       "    </tr>\n",
       "    <tr>\n",
       "      <th>honda</th>\n",
       "      <td>390</td>\n",
       "      <td>7</td>\n",
       "      <td>397</td>\n",
       "    </tr>\n",
       "    <tr>\n",
       "      <th>infiniti</th>\n",
       "      <td>193</td>\n",
       "      <td>18</td>\n",
       "      <td>211</td>\n",
       "    </tr>\n",
       "  </tbody>\n",
       "</table>\n",
       "</div>"
      ],
      "text/plain": [
       "target_action         0      1     count\n",
       "car_brand                               \n",
       "other          12238634  73021  12311655\n",
       "skoda            736255   8261    744516\n",
       "mercedes-benz    469876   2440    472316\n",
       "volkswagen       412072   5056    417128\n",
       "lada-vaz         398554   5356    403910\n",
       "nissan           237315   1386    238701\n",
       "kia              233535   2735    236270\n",
       "bmw              194011   1393    195404\n",
       "toyota           159177   1663    160840\n",
       "renault          149200   1456    150656\n",
       "porsche           63438    131     63569\n",
       "lexus             61372    259     61631\n",
       "audi              59869    166     60035\n",
       "volvo             51379    248     51627\n",
       "haval             50956    582     51538\n",
       "mini              34639     70     34709\n",
       "peugeot           27283    148     27431\n",
       "land-rover        24826     46     24872\n",
       "hyundai           18588    466     19054\n",
       "honda               390      7       397\n",
       "infiniti            193     18       211"
      ]
     },
     "execution_count": 118,
     "metadata": {},
     "output_type": "execute_result"
    }
   ],
   "source": [
    "cars['count'] = cars.sum(axis=1).astype(int)\n",
    "cars.sort_values(by='count', ascending=False)"
   ]
  },
  {
   "cell_type": "markdown",
   "id": "0d4f6b4b",
   "metadata": {},
   "source": [
    "#### C точки зрения объема трафика"
   ]
  },
  {
   "cell_type": "code",
   "execution_count": 159,
   "id": "af780605",
   "metadata": {},
   "outputs": [
    {
     "data": {
      "image/png": "[encoded data removed]",
      "text/plain": [
       "<Figure size 1000x500 with 1 Axes>"
      ]
     },
     "metadata": {},
     "output_type": "display_data"
    }
   ],
   "source": [
    "fig, ax = plt.subplots(figsize=(10,5))\n",
    "ax.hist(df_h.car_brand.sort_values(ascending=False), bins=25)\n",
    "ax.set_xlabel('Категория трафика')\n",
    "ax.tick_params(labelrotation=45)\n",
    "ax.set_ylabel('Количество')\n",
    "ax.set_title('Распределение трафика автомобилей')\n",
    "ax.yaxis.set_major_formatter(FormatStrFormatter('%.0f'));"
   ]
  },
  {
   "cell_type": "markdown",
   "id": "45e49ec4",
   "metadata": {},
   "source": [
    "Наибольшим спросом пользуются автомобили марки 'Skoda', 'Mercedes-Benz' и 'Volkswagen'"
   ]
  },
  {
   "cell_type": "markdown",
   "id": "05983025",
   "metadata": {},
   "source": [
    "#### C точки зрения CR"
   ]
  },
  {
   "cell_type": "code",
   "execution_count": 119,
   "id": "def01050",
   "metadata": {},
   "outputs": [
    {
     "data": {
      "text/html": [
       "<div>\n",
       "<style scoped>\n",
       "    .dataframe tbody tr th:only-of-type {\n",
       "        vertical-align: middle;\n",
       "    }\n",
       "\n",
       "    .dataframe tbody tr th {\n",
       "        vertical-align: top;\n",
       "    }\n",
       "\n",
       "    .dataframe thead th {\n",
       "        text-align: right;\n",
       "    }\n",
       "</style>\n",
       "<table border=\"1\" class=\"dataframe\">\n",
       "  <thead>\n",
       "    <tr style=\"text-align: right;\">\n",
       "      <th>target_action</th>\n",
       "      <th>0</th>\n",
       "      <th>1</th>\n",
       "      <th>count</th>\n",
       "    </tr>\n",
       "    <tr>\n",
       "      <th>car_brand</th>\n",
       "      <th></th>\n",
       "      <th></th>\n",
       "      <th></th>\n",
       "    </tr>\n",
       "  </thead>\n",
       "  <tbody>\n",
       "    <tr>\n",
       "      <th>other</th>\n",
       "      <td>12238634</td>\n",
       "      <td>73021</td>\n",
       "      <td>12311655</td>\n",
       "    </tr>\n",
       "    <tr>\n",
       "      <th>skoda</th>\n",
       "      <td>736255</td>\n",
       "      <td>8261</td>\n",
       "      <td>744516</td>\n",
       "    </tr>\n",
       "    <tr>\n",
       "      <th>lada-vaz</th>\n",
       "      <td>398554</td>\n",
       "      <td>5356</td>\n",
       "      <td>403910</td>\n",
       "    </tr>\n",
       "    <tr>\n",
       "      <th>volkswagen</th>\n",
       "      <td>412072</td>\n",
       "      <td>5056</td>\n",
       "      <td>417128</td>\n",
       "    </tr>\n",
       "    <tr>\n",
       "      <th>kia</th>\n",
       "      <td>233535</td>\n",
       "      <td>2735</td>\n",
       "      <td>236270</td>\n",
       "    </tr>\n",
       "    <tr>\n",
       "      <th>mercedes-benz</th>\n",
       "      <td>469876</td>\n",
       "      <td>2440</td>\n",
       "      <td>472316</td>\n",
       "    </tr>\n",
       "    <tr>\n",
       "      <th>toyota</th>\n",
       "      <td>159177</td>\n",
       "      <td>1663</td>\n",
       "      <td>160840</td>\n",
       "    </tr>\n",
       "    <tr>\n",
       "      <th>renault</th>\n",
       "      <td>149200</td>\n",
       "      <td>1456</td>\n",
       "      <td>150656</td>\n",
       "    </tr>\n",
       "    <tr>\n",
       "      <th>bmw</th>\n",
       "      <td>194011</td>\n",
       "      <td>1393</td>\n",
       "      <td>195404</td>\n",
       "    </tr>\n",
       "    <tr>\n",
       "      <th>nissan</th>\n",
       "      <td>237315</td>\n",
       "      <td>1386</td>\n",
       "      <td>238701</td>\n",
       "    </tr>\n",
       "    <tr>\n",
       "      <th>haval</th>\n",
       "      <td>50956</td>\n",
       "      <td>582</td>\n",
       "      <td>51538</td>\n",
       "    </tr>\n",
       "    <tr>\n",
       "      <th>hyundai</th>\n",
       "      <td>18588</td>\n",
       "      <td>466</td>\n",
       "      <td>19054</td>\n",
       "    </tr>\n",
       "    <tr>\n",
       "      <th>lexus</th>\n",
       "      <td>61372</td>\n",
       "      <td>259</td>\n",
       "      <td>61631</td>\n",
       "    </tr>\n",
       "    <tr>\n",
       "      <th>volvo</th>\n",
       "      <td>51379</td>\n",
       "      <td>248</td>\n",
       "      <td>51627</td>\n",
       "    </tr>\n",
       "    <tr>\n",
       "      <th>audi</th>\n",
       "      <td>59869</td>\n",
       "      <td>166</td>\n",
       "      <td>60035</td>\n",
       "    </tr>\n",
       "    <tr>\n",
       "      <th>peugeot</th>\n",
       "      <td>27283</td>\n",
       "      <td>148</td>\n",
       "      <td>27431</td>\n",
       "    </tr>\n",
       "    <tr>\n",
       "      <th>porsche</th>\n",
       "      <td>63438</td>\n",
       "      <td>131</td>\n",
       "      <td>63569</td>\n",
       "    </tr>\n",
       "    <tr>\n",
       "      <th>mini</th>\n",
       "      <td>34639</td>\n",
       "      <td>70</td>\n",
       "      <td>34709</td>\n",
       "    </tr>\n",
       "    <tr>\n",
       "      <th>land-rover</th>\n",
       "      <td>24826</td>\n",
       "      <td>46</td>\n",
       "      <td>24872</td>\n",
       "    </tr>\n",
       "    <tr>\n",
       "      <th>infiniti</th>\n",
       "      <td>193</td>\n",
       "      <td>18</td>\n",
       "      <td>211</td>\n",
       "    </tr>\n",
       "    <tr>\n",
       "      <th>honda</th>\n",
       "      <td>390</td>\n",
       "      <td>7</td>\n",
       "      <td>397</td>\n",
       "    </tr>\n",
       "  </tbody>\n",
       "</table>\n",
       "</div>"
      ],
      "text/plain": [
       "target_action         0      1     count\n",
       "car_brand                               \n",
       "other          12238634  73021  12311655\n",
       "skoda            736255   8261    744516\n",
       "lada-vaz         398554   5356    403910\n",
       "volkswagen       412072   5056    417128\n",
       "kia              233535   2735    236270\n",
       "mercedes-benz    469876   2440    472316\n",
       "toyota           159177   1663    160840\n",
       "renault          149200   1456    150656\n",
       "bmw              194011   1393    195404\n",
       "nissan           237315   1386    238701\n",
       "haval             50956    582     51538\n",
       "hyundai           18588    466     19054\n",
       "lexus             61372    259     61631\n",
       "volvo             51379    248     51627\n",
       "audi              59869    166     60035\n",
       "peugeot           27283    148     27431\n",
       "porsche           63438    131     63569\n",
       "mini              34639     70     34709\n",
       "land-rover        24826     46     24872\n",
       "infiniti            193     18       211\n",
       "honda               390      7       397"
      ]
     },
     "execution_count": 119,
     "metadata": {},
     "output_type": "execute_result"
    }
   ],
   "source": [
    "cars.sort_values(by=[1], ascending=False)"
   ]
  },
  {
   "cell_type": "code",
   "execution_count": 198,
   "id": "52d5952c",
   "metadata": {},
   "outputs": [
    {
     "data": {
      "text/plain": [
       "{'other': 73021,\n",
       " 'skoda': 8261,\n",
       " 'lada-vaz': 5356,\n",
       " 'volkswagen': 5056,\n",
       " 'kia': 2735,\n",
       " 'mercedes-benz': 2440,\n",
       " 'toyota': 1663,\n",
       " 'renault': 1456,\n",
       " 'bmw': 1393,\n",
       " 'nissan': 1386,\n",
       " 'haval': 582,\n",
       " 'hyundai': 466,\n",
       " 'lexus': 259,\n",
       " 'volvo': 248,\n",
       " 'audi': 166,\n",
       " 'peugeot': 148,\n",
       " 'porsche': 131,\n",
       " 'mini': 70,\n",
       " 'land-rover': 46,\n",
       " 'infiniti': 18,\n",
       " 'honda': 7}"
      ]
     },
     "execution_count": 198,
     "metadata": {},
     "output_type": "execute_result"
    }
   ],
   "source": [
    "car = cars.to_dict()\n",
    "car = dict(sorted(car[1].items(), key=lambda item: item[1], reverse=True))\n",
    "car"
   ]
  },
  {
   "cell_type": "code",
   "execution_count": 204,
   "id": "0489c49d",
   "metadata": {},
   "outputs": [
    {
     "data": {
      "image/png": "[encoded data removed]",
      "text/plain": [
       "<Figure size 640x480 with 1 Axes>"
      ]
     },
     "metadata": {},
     "output_type": "display_data"
    }
   ],
   "source": [
    "plt.bar(car.keys(), car.values())\n",
    "plt.xlabel('Категория трафика')\n",
    "plt.xticks(rotation=45)\n",
    "plt.ylabel('Количество')\n",
    "plt.title('Графическое отображение распределения автомобилей с целевым действием')\n",
    "plt.show()"
   ]
  },
  {
   "cell_type": "markdown",
   "id": "54a93d6f",
   "metadata": {},
   "source": [
    "Самый лучший показатель конверсии у автомобилей марок: 'Skoda', 'Lada-VAZ' и 'Volkswagen', т.к. эти автомобили наибольшее количество раз участвовали в целевом событии."
   ]
  },
  {
   "cell_type": "markdown",
   "id": "b7b32caa",
   "metadata": {},
   "source": [
    "3. Стоит ли нам увеличивать своё присутствие в соцсетях и давать там больше рекламы?"
   ]
  },
  {
   "cell_type": "code",
   "execution_count": 156,
   "id": "45032280",
   "metadata": {},
   "outputs": [
    {
     "data": {
      "text/html": [
       "<div>\n",
       "<style scoped>\n",
       "    .dataframe tbody tr th:only-of-type {\n",
       "        vertical-align: middle;\n",
       "    }\n",
       "\n",
       "    .dataframe tbody tr th {\n",
       "        vertical-align: top;\n",
       "    }\n",
       "\n",
       "    .dataframe thead th {\n",
       "        text-align: right;\n",
       "    }\n",
       "</style>\n",
       "<table border=\"1\" class=\"dataframe\">\n",
       "  <thead>\n",
       "    <tr style=\"text-align: right;\">\n",
       "      <th>target_action</th>\n",
       "      <th>0</th>\n",
       "      <th>1</th>\n",
       "    </tr>\n",
       "    <tr>\n",
       "      <th>utm_source</th>\n",
       "      <th></th>\n",
       "      <th></th>\n",
       "    </tr>\n",
       "  </thead>\n",
       "  <tbody>\n",
       "    <tr>\n",
       "      <th>other_source</th>\n",
       "      <td>1429693</td>\n",
       "      <td>46293</td>\n",
       "    </tr>\n",
       "    <tr>\n",
       "      <th>social_network</th>\n",
       "      <td>252259</td>\n",
       "      <td>4021</td>\n",
       "    </tr>\n",
       "  </tbody>\n",
       "</table>\n",
       "</div>"
      ],
      "text/plain": [
       "target_action         0      1\n",
       "utm_source                    \n",
       "other_source    1429693  46293\n",
       "social_network   252259   4021"
      ]
     },
     "execution_count": 156,
     "metadata": {},
     "output_type": "execute_result"
    }
   ],
   "source": [
    "source =  df.pivot_table(index='utm_source', columns = 'target_action', aggfunc='size', fill_value=0)\n",
    "source"
   ]
  },
  {
   "cell_type": "code",
   "execution_count": 157,
   "id": "51915623",
   "metadata": {},
   "outputs": [
    {
     "name": "stdout",
     "output_type": "stream",
     "text": [
      " CR трафика социальных сетей: 0.23%, CR трафика других каналов привлечения: 2.67%\n"
     ]
    }
   ],
   "source": [
    "CR_social = round(source[1][1]/all_traffic * 100, 2)\n",
    "CR_other_source = round(source[1][0]/all_traffic * 100, 2)\n",
    "print(f' CR трафика социальных сетей: {CR_social}%, CR трафика других каналов привлечения: {CR_other_source}%')"
   ]
  },
  {
   "cell_type": "code",
   "execution_count": 158,
   "id": "43890743",
   "metadata": {},
   "outputs": [
    {
     "data": {
      "image/png": "[encoded data removed]",
      "text/plain": [
       "<Figure size 640x480 with 1 Axes>"
      ]
     },
     "metadata": {},
     "output_type": "display_data"
    }
   ],
   "source": [
    "data_source = {'Социальные сети': 0.23, 'Другие каналы привлечения': 2.67}\n",
    "plt.bar(data_source.keys(), data_source.values())\n",
    "plt.xlabel('Категория трафика')\n",
    "plt.ylabel('CR')\n",
    "plt.title('Графическое отображение CR трафика каналов привлечения')\n",
    "plt.show()"
   ]
  },
  {
   "cell_type": "markdown",
   "id": "91063ba0",
   "metadata": {},
   "source": [
    "Показатель конверсии визитов из других каналов привлечения гораздо выше, чем этот же показатель в соцсетях.\\\n",
    "На сегодняшний день, соцсети являются хорошим источником рекламы, очень много людей пользуются ими ежедневно, возможно стоит увеличить присутсвие в соцсетях, но для этого нужен более глубокий анализ целевого клиента."
   ]
  }
 ],
 "metadata": {
  "kernelspec": {
   "display_name": "Python 3 (ipykernel)",
   "language": "python",
   "name": "python3"
  },
  "language_info": {
   "codemirror_mode": {
    "name": "ipython",
    "version": 3
   },
   "file_extension": ".py",
   "mimetype": "text/x-python",
   "name": "python",
   "nbconvert_exporter": "python",
   "pygments_lexer": "ipython3",
   "version": "3.11.4"
  }
 },
 "nbformat": 4,
 "nbformat_minor": 5
}
